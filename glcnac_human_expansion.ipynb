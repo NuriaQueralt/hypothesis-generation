{
 "cells": [
  {
   "cell_type": "code",
   "execution_count": 29,
   "metadata": {
    "collapsed": true
   },
   "outputs": [],
   "source": [
    "import sys\n",
    "import pandas as pd\n",
    "import requests\n",
    "import json\n",
    "from pandas.io.json import json_normalize"
   ]
  },
  {
   "cell_type": "markdown",
   "metadata": {},
   "source": [
    "# Expansion of nodes using Monarch APIs\n",
    "* https://api.monarchinitiative.org/api/#/\n",
    "* https://scigraph-ontology.monarchinitiative.org/scigraph/docs/#/"
   ]
  },
  {
   "cell_type": "code",
   "execution_count": 30,
   "metadata": {
    "collapsed": true
   },
   "outputs": [],
   "source": [
    "# input substance\n",
    "metabolite = 'CHEBI:506227'\n",
    "\n",
    "# output files\n",
    "path = 'glcnac-human-expansion/glcnac_human'"
   ]
  },
  {
   "cell_type": "markdown",
   "metadata": {},
   "source": [
    "## Graph queries (SciGraph)"
   ]
  },
  {
   "cell_type": "code",
   "execution_count": 31,
   "metadata": {
    "collapsed": true
   },
   "outputs": [],
   "source": [
    "# api address\n",
    "api = 'https://scigraph-ontology.monarchinitiative.org/scigraph'\n",
    "endpoint = '/graph'"
   ]
  },
  {
   "cell_type": "code",
   "execution_count": 32,
   "metadata": {},
   "outputs": [
    {
     "data": {
      "text/plain": [
       "{'Connection': 'keep-alive', 'Date': 'Wed, 07 Jun 2017 01:01:40 GMT', 'Content-Length': '880', 'Content-Type': 'application/json', 'Server': 'nginx/1.10.0 (Ubuntu)', 'Vary': 'Accept, Accept-Encoding', 'Content-Encoding': 'gzip', 'Cache-Control': 'no-transform, max-age=7200'}"
      ]
     },
     "execution_count": 32,
     "metadata": {},
     "output_type": "execute_result"
    }
   ],
   "source": [
    "# get neighbors (JSON content)\n",
    "r = requests.get('{}{}/neighbors/{}'.format(api,endpoint,metabolite))\n",
    "r.headers"
   ]
  },
  {
   "cell_type": "code",
   "execution_count": 33,
   "metadata": {},
   "outputs": [
    {
     "data": {
      "text/plain": [
       "200"
      ]
     },
     "execution_count": 33,
     "metadata": {},
     "output_type": "execute_result"
    }
   ],
   "source": [
    "r.status_code"
   ]
  },
  {
   "cell_type": "code",
   "execution_count": 34,
   "metadata": {},
   "outputs": [
    {
     "data": {
      "text/plain": [
       "{'edges': [{'meta': {'lbl': ['isDefinedBy']},\n",
       "   'obj': 'OBO:upheno/monarch.owl',\n",
       "   'pred': 'isDefinedBy',\n",
       "   'sub': 'CHEBI:506227'},\n",
       "  {'meta': {'isDefinedBy': ['http://purl.obolibrary.org/obo/upheno/monarch.owl'],\n",
       "    'lbl': ['subClassOf']},\n",
       "   'obj': 'CHEBI:59640',\n",
       "   'pred': 'subClassOf',\n",
       "   'sub': 'CHEBI:506227'},\n",
       "  {'meta': {'convenience': [True],\n",
       "    'equivalentOriginalNodeSource': ['_:72df5bf9bf084b8edfbacd665df547ca'],\n",
       "    'lbl': ['has input'],\n",
       "    'owlType': ['operand']},\n",
       "   'obj': 'CHEBI:506227',\n",
       "   'pred': 'RO:0002233',\n",
       "   'sub': 'GO:0097316'},\n",
       "  {'meta': {'convenience': [True],\n",
       "    'equivalentOriginalNodeSource': ['_:55af255a394966ac0299ddc7621feb8d'],\n",
       "    'lbl': ['has input'],\n",
       "    'owlType': ['operand']},\n",
       "   'obj': 'CHEBI:506227',\n",
       "   'pred': 'RO:0002233',\n",
       "   'sub': 'GO:0097315'},\n",
       "  {'meta': {'convenience': [True],\n",
       "    'lbl': ['has input'],\n",
       "    'owlType': ['subClassOf']},\n",
       "   'obj': 'CHEBI:506227',\n",
       "   'pred': 'RO:0002233',\n",
       "   'sub': 'GO:0097315'},\n",
       "  {'meta': {'isDefinedBy': ['http://purl.obolibrary.org/obo/upheno/monarch.owl'],\n",
       "    'lbl': ['subClassOf']},\n",
       "   'obj': 'CHEBI:21601',\n",
       "   'pred': 'subClassOf',\n",
       "   'sub': 'CHEBI:506227'},\n",
       "  {'meta': {'convenience': [True],\n",
       "    'lbl': ['has role'],\n",
       "    'owlType': ['subClassOf']},\n",
       "   'obj': 'CHEBI:76969',\n",
       "   'pred': 'RO:0000087',\n",
       "   'sub': 'CHEBI:506227'}],\n",
       " 'meta': {},\n",
       " 'nodes': [{'id': 'GO:0097316',\n",
       "   'lbl': 'cellular response to N-acetyl-D-glucosamine',\n",
       "   'meta': {'category': ['biological_process'],\n",
       "    'definition': ['Any process that results in a change in state or activity of a cell (in terms of movement, secretion, enzyme production, gene expression, etc.) as a result of an N-acetyl-D-glucosamine stimulus.'],\n",
       "    'http://purl.obolibrary.org/obo/IAO_0000115': ['Any process that results in a change in state or activity of a cell (in terms of movement, secretion, enzyme production, gene expression, etc.) as a result of an N-acetyl-D-glucosamine stimulus.'],\n",
       "    'http://www.geneontology.org/formats/oboInOwl#created_by': ['paola'],\n",
       "    'http://www.geneontology.org/formats/oboInOwl#creation_date': ['2012-05-30T04:01:02Z'],\n",
       "    'http://www.geneontology.org/formats/oboInOwl#hasOBONamespace': ['biological_process'],\n",
       "    'http://www.geneontology.org/formats/oboInOwl#id': ['GO:0097316'],\n",
       "    'http://www.w3.org/2000/01/rdf-schema#label': ['cellular response to N-acetyl-D-glucosamine'],\n",
       "    'types': ['cliqueLeader', 'biological_process', 'Node', 'Class']}},\n",
       "  {'id': 'CHEBI:76969',\n",
       "   'lbl': 'bacterial metabolite',\n",
       "   'meta': {'http://www.w3.org/2000/01/rdf-schema#label': ['bacterial metabolite'],\n",
       "    'types': ['cliqueLeader', 'Node', 'Class']}},\n",
       "  {'id': 'OBO:upheno/monarch.owl',\n",
       "   'lbl': None,\n",
       "   'meta': {'types': ['Ontology', 'cliqueLeader', 'Node']}},\n",
       "  {'id': 'CHEBI:59640',\n",
       "   'lbl': 'N-acetylglucosamine',\n",
       "   'meta': {'category': ['molecular entity'],\n",
       "    'http://www.w3.org/2000/01/rdf-schema#label': ['N-acetylglucosamine'],\n",
       "    'types': ['cliqueLeader', 'Node', 'Class', 'molecular entity']}},\n",
       "  {'id': 'GO:0097315',\n",
       "   'lbl': 'response to N-acetyl-D-glucosamine',\n",
       "   'meta': {'category': ['biological_process'],\n",
       "    'definition': ['Any process that results in a change in state or activity of a cell or an organism (in terms of movement, secretion, enzyme production, gene expression, etc.) as a result of an N-acetyl-D-glucosamine stimulus.'],\n",
       "    'http://purl.obolibrary.org/obo/IAO_0000115': ['Any process that results in a change in state or activity of a cell or an organism (in terms of movement, secretion, enzyme production, gene expression, etc.) as a result of an N-acetyl-D-glucosamine stimulus.'],\n",
       "    'http://www.geneontology.org/formats/oboInOwl#created_by': ['paola'],\n",
       "    'http://www.geneontology.org/formats/oboInOwl#creation_date': ['2012-05-30T03:58:54Z'],\n",
       "    'http://www.geneontology.org/formats/oboInOwl#hasOBONamespace': ['biological_process'],\n",
       "    'http://www.geneontology.org/formats/oboInOwl#id': ['GO:0097315'],\n",
       "    'http://www.w3.org/2000/01/rdf-schema#label': ['response to N-acetyl-D-glucosamine'],\n",
       "    'types': ['cliqueLeader', 'biological_process', 'Node', 'Class']}},\n",
       "  {'id': 'CHEBI:506227',\n",
       "   'lbl': 'N-acetyl-D-glucosamine',\n",
       "   'meta': {'category': ['molecular entity'],\n",
       "    'http://www.w3.org/2000/01/rdf-schema#label': ['N-acetyl-D-glucosamine'],\n",
       "    'types': ['cliqueLeader', 'Node', 'Class', 'molecular entity']}},\n",
       "  {'id': 'CHEBI:21601',\n",
       "   'lbl': 'N-acetyl-D-hexosamine',\n",
       "   'meta': {'category': ['molecular entity'],\n",
       "    'http://www.w3.org/2000/01/rdf-schema#label': ['N-acetyl-D-hexosamine'],\n",
       "    'types': ['cliqueLeader', 'Node', 'Class', 'molecular entity']}}]}"
      ]
     },
     "execution_count": 34,
     "metadata": {},
     "output_type": "execute_result"
    }
   ],
   "source": [
    "# Read results \n",
    "r.json()"
   ]
  },
  {
   "cell_type": "code",
   "execution_count": 35,
   "metadata": {},
   "outputs": [
    {
     "data": {
      "text/html": [
       "<div>\n",
       "<table border=\"1\" class=\"dataframe\">\n",
       "  <thead>\n",
       "    <tr style=\"text-align: right;\">\n",
       "      <th></th>\n",
       "      <th>id</th>\n",
       "      <th>lbl</th>\n",
       "      <th>meta</th>\n",
       "    </tr>\n",
       "  </thead>\n",
       "  <tbody>\n",
       "    <tr>\n",
       "      <th>0</th>\n",
       "      <td>GO:0097316</td>\n",
       "      <td>cellular response to N-acetyl-D-glucosamine</td>\n",
       "      <td>{'http://www.w3.org/2000/01/rdf-schema#label':...</td>\n",
       "    </tr>\n",
       "    <tr>\n",
       "      <th>1</th>\n",
       "      <td>CHEBI:76969</td>\n",
       "      <td>bacterial metabolite</td>\n",
       "      <td>{'http://www.w3.org/2000/01/rdf-schema#label':...</td>\n",
       "    </tr>\n",
       "    <tr>\n",
       "      <th>2</th>\n",
       "      <td>OBO:upheno/monarch.owl</td>\n",
       "      <td>None</td>\n",
       "      <td>{'types': ['Ontology', 'cliqueLeader', 'Node']}</td>\n",
       "    </tr>\n",
       "    <tr>\n",
       "      <th>3</th>\n",
       "      <td>CHEBI:59640</td>\n",
       "      <td>N-acetylglucosamine</td>\n",
       "      <td>{'http://www.w3.org/2000/01/rdf-schema#label':...</td>\n",
       "    </tr>\n",
       "    <tr>\n",
       "      <th>4</th>\n",
       "      <td>GO:0097315</td>\n",
       "      <td>response to N-acetyl-D-glucosamine</td>\n",
       "      <td>{'http://www.w3.org/2000/01/rdf-schema#label':...</td>\n",
       "    </tr>\n",
       "  </tbody>\n",
       "</table>\n",
       "</div>"
      ],
      "text/plain": [
       "                       id                                          lbl  \\\n",
       "0              GO:0097316  cellular response to N-acetyl-D-glucosamine   \n",
       "1             CHEBI:76969                         bacterial metabolite   \n",
       "2  OBO:upheno/monarch.owl                                         None   \n",
       "3             CHEBI:59640                          N-acetylglucosamine   \n",
       "4              GO:0097315           response to N-acetyl-D-glucosamine   \n",
       "\n",
       "                                                meta  \n",
       "0  {'http://www.w3.org/2000/01/rdf-schema#label':...  \n",
       "1  {'http://www.w3.org/2000/01/rdf-schema#label':...  \n",
       "2    {'types': ['Ontology', 'cliqueLeader', 'Node']}  \n",
       "3  {'http://www.w3.org/2000/01/rdf-schema#label':...  \n",
       "4  {'http://www.w3.org/2000/01/rdf-schema#label':...  "
      ]
     },
     "execution_count": 35,
     "metadata": {},
     "output_type": "execute_result"
    }
   ],
   "source": [
    "neighbors_df = json_normalize(r.json(), 'nodes')\n",
    "neighbors_df.head()"
   ]
  },
  {
   "cell_type": "code",
   "execution_count": 36,
   "metadata": {},
   "outputs": [
    {
     "name": "stdout",
     "output_type": "stream",
     "text": [
      "nodes: 7\n"
     ]
    }
   ],
   "source": [
    "# Analyze neighbours' types\n",
    "neighbors_df.id.unique()\n",
    "print('nodes: {}'.format(len(neighbors_df.id.unique())))"
   ]
  },
  {
   "cell_type": "code",
   "execution_count": 37,
   "metadata": {},
   "outputs": [
    {
     "data": {
      "text/html": [
       "<div>\n",
       "<table border=\"1\" class=\"dataframe\">\n",
       "  <thead>\n",
       "    <tr style=\"text-align: right;\">\n",
       "      <th></th>\n",
       "      <th>id</th>\n",
       "      <th>lbl</th>\n",
       "    </tr>\n",
       "  </thead>\n",
       "  <tbody>\n",
       "    <tr>\n",
       "      <th>0</th>\n",
       "      <td>GO:0097316</td>\n",
       "      <td>cellular response to N-acetyl-D-glucosamine</td>\n",
       "    </tr>\n",
       "    <tr>\n",
       "      <th>1</th>\n",
       "      <td>CHEBI:76969</td>\n",
       "      <td>bacterial metabolite</td>\n",
       "    </tr>\n",
       "    <tr>\n",
       "      <th>2</th>\n",
       "      <td>OBO:upheno/monarch.owl</td>\n",
       "      <td>None</td>\n",
       "    </tr>\n",
       "    <tr>\n",
       "      <th>3</th>\n",
       "      <td>CHEBI:59640</td>\n",
       "      <td>N-acetylglucosamine</td>\n",
       "    </tr>\n",
       "    <tr>\n",
       "      <th>4</th>\n",
       "      <td>GO:0097315</td>\n",
       "      <td>response to N-acetyl-D-glucosamine</td>\n",
       "    </tr>\n",
       "    <tr>\n",
       "      <th>5</th>\n",
       "      <td>CHEBI:506227</td>\n",
       "      <td>N-acetyl-D-glucosamine</td>\n",
       "    </tr>\n",
       "    <tr>\n",
       "      <th>6</th>\n",
       "      <td>CHEBI:21601</td>\n",
       "      <td>N-acetyl-D-hexosamine</td>\n",
       "    </tr>\n",
       "  </tbody>\n",
       "</table>\n",
       "</div>"
      ],
      "text/plain": [
       "                       id                                          lbl\n",
       "0              GO:0097316  cellular response to N-acetyl-D-glucosamine\n",
       "1             CHEBI:76969                         bacterial metabolite\n",
       "2  OBO:upheno/monarch.owl                                         None\n",
       "3             CHEBI:59640                          N-acetylglucosamine\n",
       "4              GO:0097315           response to N-acetyl-D-glucosamine\n",
       "5            CHEBI:506227                       N-acetyl-D-glucosamine\n",
       "6             CHEBI:21601                        N-acetyl-D-hexosamine"
      ]
     },
     "execution_count": 37,
     "metadata": {},
     "output_type": "execute_result"
    }
   ],
   "source": [
    "neighbors_df[['id','lbl']]\n",
    "# the 4 CHEBIs are outgoing nodes in the ChEBI ontology (has_role, is_a)"
   ]
  },
  {
   "cell_type": "code",
   "execution_count": 38,
   "metadata": {},
   "outputs": [
    {
     "data": {
      "text/plain": [
       "CHEBI    4\n",
       "GO       2\n",
       "OBO      1\n",
       "Name: node_type, dtype: int64"
      ]
     },
     "execution_count": 38,
     "metadata": {},
     "output_type": "execute_result"
    }
   ],
   "source": [
    "neighbors_df['node_type'] = neighbors_df.id.apply(lambda x: x.split(':')[0])\n",
    "neighbors_df.node_type.value_counts()"
   ]
  },
  {
   "cell_type": "code",
   "execution_count": 39,
   "metadata": {
    "collapsed": true
   },
   "outputs": [],
   "source": [
    "# conclusion: neighbors are outgoing nodes (parents) in CHEBI, GO annotation, provenance. I will use GO only:\n",
    "# <go> <has_input, RO:0002233, subclassOf> <metabolite>"
   ]
  },
  {
   "cell_type": "code",
   "execution_count": 40,
   "metadata": {},
   "outputs": [
    {
     "data": {
      "text/html": [
       "<div>\n",
       "<table border=\"1\" class=\"dataframe\">\n",
       "  <thead>\n",
       "    <tr style=\"text-align: right;\">\n",
       "      <th></th>\n",
       "      <th>id</th>\n",
       "      <th>lbl</th>\n",
       "    </tr>\n",
       "  </thead>\n",
       "  <tbody>\n",
       "    <tr>\n",
       "      <th>0</th>\n",
       "      <td>GO:0097316</td>\n",
       "      <td>cellular response to N-acetyl-D-glucosamine</td>\n",
       "    </tr>\n",
       "    <tr>\n",
       "      <th>4</th>\n",
       "      <td>GO:0097315</td>\n",
       "      <td>response to N-acetyl-D-glucosamine</td>\n",
       "    </tr>\n",
       "  </tbody>\n",
       "</table>\n",
       "</div>"
      ],
      "text/plain": [
       "           id                                          lbl\n",
       "0  GO:0097316  cellular response to N-acetyl-D-glucosamine\n",
       "4  GO:0097315           response to N-acetyl-D-glucosamine"
      ]
     },
     "execution_count": 40,
     "metadata": {},
     "output_type": "execute_result"
    }
   ],
   "source": [
    "# subset go terms\n",
    "go_df = neighbors_df[['id', 'lbl']]\n",
    "go_df = go_df[go_df['id'].str.contains('GO:')]\n",
    "go_df.head()"
   ]
  },
  {
   "cell_type": "code",
   "execution_count": 41,
   "metadata": {
    "collapsed": true
   },
   "outputs": [],
   "source": [
    "go_df.to_csv('{}_go_neighbors_monarch.tsv'.format(path), sep='\\t', index=False, header=True)"
   ]
  },
  {
   "cell_type": "code",
   "execution_count": 42,
   "metadata": {
    "collapsed": true
   },
   "outputs": [],
   "source": [
    "# Filters\n",
    "# Filter by interaction_type. BUT what are the strings per interaction_type???"
   ]
  },
  {
   "cell_type": "code",
   "execution_count": 43,
   "metadata": {},
   "outputs": [
    {
     "data": {
      "text/plain": [
       "{'Connection': 'keep-alive', 'Date': 'Wed, 07 Jun 2017 01:01:41 GMT', 'Content-Length': '337', 'Content-Type': 'application/json', 'Server': 'nginx/1.10.0 (Ubuntu)', 'Vary': 'Accept, Accept-Encoding', 'Content-Encoding': 'gzip', 'Cache-Control': 'no-transform, max-age=7200'}"
      ]
     },
     "execution_count": 43,
     "metadata": {},
     "output_type": "execute_result"
    }
   ],
   "source": [
    "# get reachable nodes (JSON content)\n",
    "r = requests.get('{}{}/reachablefrom/{}'.format(api,endpoint,metabolite))\n",
    "r.headers"
   ]
  },
  {
   "cell_type": "code",
   "execution_count": 44,
   "metadata": {},
   "outputs": [
    {
     "data": {
      "text/plain": [
       "200"
      ]
     },
     "execution_count": 44,
     "metadata": {},
     "output_type": "execute_result"
    }
   ],
   "source": [
    "r.status_code"
   ]
  },
  {
   "cell_type": "code",
   "execution_count": 45,
   "metadata": {},
   "outputs": [
    {
     "data": {
      "text/html": [
       "<div>\n",
       "<table border=\"1\" class=\"dataframe\">\n",
       "  <thead>\n",
       "    <tr style=\"text-align: right;\">\n",
       "      <th></th>\n",
       "      <th>id</th>\n",
       "      <th>lbl</th>\n",
       "      <th>meta</th>\n",
       "    </tr>\n",
       "  </thead>\n",
       "  <tbody>\n",
       "    <tr>\n",
       "      <th>0</th>\n",
       "      <td>OBO:upheno/monarch.owl</td>\n",
       "      <td>None</td>\n",
       "      <td>{'types': ['Ontology', 'cliqueLeader', 'Node']}</td>\n",
       "    </tr>\n",
       "    <tr>\n",
       "      <th>1</th>\n",
       "      <td>CHEBI:59640</td>\n",
       "      <td>N-acetylglucosamine</td>\n",
       "      <td>{'http://www.w3.org/2000/01/rdf-schema#label':...</td>\n",
       "    </tr>\n",
       "    <tr>\n",
       "      <th>2</th>\n",
       "      <td>CHEBI:76969</td>\n",
       "      <td>bacterial metabolite</td>\n",
       "      <td>{'http://www.w3.org/2000/01/rdf-schema#label':...</td>\n",
       "    </tr>\n",
       "    <tr>\n",
       "      <th>3</th>\n",
       "      <td>CHEBI:21601</td>\n",
       "      <td>N-acetyl-D-hexosamine</td>\n",
       "      <td>{'http://www.w3.org/2000/01/rdf-schema#label':...</td>\n",
       "    </tr>\n",
       "    <tr>\n",
       "      <th>4</th>\n",
       "      <td>_:a087bd0cac3136e13077700e06486036</td>\n",
       "      <td>None</td>\n",
       "      <td>{'types': ['someValuesFrom', 'cliqueLeader', '...</td>\n",
       "    </tr>\n",
       "  </tbody>\n",
       "</table>\n",
       "</div>"
      ],
      "text/plain": [
       "                                   id                    lbl  \\\n",
       "0              OBO:upheno/monarch.owl                   None   \n",
       "1                         CHEBI:59640    N-acetylglucosamine   \n",
       "2                         CHEBI:76969   bacterial metabolite   \n",
       "3                         CHEBI:21601  N-acetyl-D-hexosamine   \n",
       "4  _:a087bd0cac3136e13077700e06486036                   None   \n",
       "\n",
       "                                                meta  \n",
       "0    {'types': ['Ontology', 'cliqueLeader', 'Node']}  \n",
       "1  {'http://www.w3.org/2000/01/rdf-schema#label':...  \n",
       "2  {'http://www.w3.org/2000/01/rdf-schema#label':...  \n",
       "3  {'http://www.w3.org/2000/01/rdf-schema#label':...  \n",
       "4  {'types': ['someValuesFrom', 'cliqueLeader', '...  "
      ]
     },
     "execution_count": 45,
     "metadata": {},
     "output_type": "execute_result"
    }
   ],
   "source": [
    "# Read results \n",
    "r.json()\n",
    "reach_df = json_normalize(r.json(), 'nodes')\n",
    "reach_df.head()"
   ]
  },
  {
   "cell_type": "code",
   "execution_count": 46,
   "metadata": {},
   "outputs": [
    {
     "name": "stdout",
     "output_type": "stream",
     "text": [
      "nodes: 5\n"
     ]
    }
   ],
   "source": [
    "reach_df.id.unique()\n",
    "print('nodes: {}'.format(len(reach_df.id.unique())))"
   ]
  },
  {
   "cell_type": "code",
   "execution_count": 47,
   "metadata": {},
   "outputs": [
    {
     "data": {
      "text/plain": [
       "CHEBI    3\n",
       "_        1\n",
       "OBO      1\n",
       "Name: node_type, dtype: int64"
      ]
     },
     "execution_count": 47,
     "metadata": {},
     "output_type": "execute_result"
    }
   ],
   "source": [
    "reach_df['node_type'] = reach_df.id.apply(lambda x: x.split(':')[0])\n",
    "reach_df.node_type.value_counts()"
   ]
  },
  {
   "cell_type": "code",
   "execution_count": 48,
   "metadata": {
    "collapsed": true
   },
   "outputs": [],
   "source": [
    "# conclusion: three nodes reachabable, which are the chebi outgoing nodes (same above)"
   ]
  },
  {
   "cell_type": "markdown",
   "metadata": {},
   "source": [
    "## Edge Queries (Monarch)"
   ]
  },
  {
   "cell_type": "code",
   "execution_count": 78,
   "metadata": {
    "collapsed": true
   },
   "outputs": [],
   "source": [
    "# api address\n",
    "api = 'https://api.monarchinitiative.org/api'\n",
    "endpoint = '/bioentity'"
   ]
  },
  {
   "cell_type": "code",
   "execution_count": 50,
   "metadata": {},
   "outputs": [
    {
     "data": {
      "text/plain": [
       "200"
      ]
     },
     "execution_count": 50,
     "metadata": {},
     "output_type": "execute_result"
    }
   ],
   "source": [
    "# get substance info\n",
    "r = requests.get('{}{}/substance/{}'.format(api,endpoint,metabolite))\n",
    "r.headers\n",
    "r.status_code"
   ]
  },
  {
   "cell_type": "code",
   "execution_count": 51,
   "metadata": {
    "scrolled": true
   },
   "outputs": [
    {
     "data": {
      "text/plain": [
       "{'categories': None,\n",
       " 'consider': None,\n",
       " 'deprecated': None,\n",
       " 'description': None,\n",
       " 'id': None,\n",
       " 'inchi': None,\n",
       " 'inchi_key': None,\n",
       " 'label': None,\n",
       " 'replaced_by': None,\n",
       " 'smiles': None,\n",
       " 'synonyms': None,\n",
       " 'target_associations': None,\n",
       " 'taxon': {'id': None, 'label': None},\n",
       " 'types': None,\n",
       " 'xrefs': None}"
      ]
     },
     "execution_count": 51,
     "metadata": {},
     "output_type": "execute_result"
    }
   ],
   "source": [
    "r.json()"
   ]
  },
  {
   "cell_type": "code",
   "execution_count": 79,
   "metadata": {},
   "outputs": [
    {
     "data": {
      "text/plain": [
       "(200,\n",
       " {'evidence_graph': {'edges': None, 'nodes': None},\n",
       "  'evidence_types': None,\n",
       "  'id': None,\n",
       "  'object': {'categories': None,\n",
       "   'consider': None,\n",
       "   'deprecated': None,\n",
       "   'description': None,\n",
       "   'id': None,\n",
       "   'label': None,\n",
       "   'replaced_by': None,\n",
       "   'synonyms': None,\n",
       "   'taxon': {'id': None, 'label': None},\n",
       "   'types': None,\n",
       "   'xrefs': None},\n",
       "  'object_extension': None,\n",
       "  'provided_by': None,\n",
       "  'publications': None,\n",
       "  'qualifiers': None,\n",
       "  'relation': {'categories': None,\n",
       "   'consider': None,\n",
       "   'deprecated': None,\n",
       "   'description': None,\n",
       "   'id': None,\n",
       "   'label': None,\n",
       "   'replaced_by': None,\n",
       "   'synonyms': None,\n",
       "   'types': None},\n",
       "  'slim': None,\n",
       "  'subject': {'categories': None,\n",
       "   'consider': None,\n",
       "   'deprecated': None,\n",
       "   'description': None,\n",
       "   'id': None,\n",
       "   'label': None,\n",
       "   'replaced_by': None,\n",
       "   'synonyms': None,\n",
       "   'taxon': {'id': None, 'label': None},\n",
       "   'types': None,\n",
       "   'xrefs': None},\n",
       "  'subject_extension': None,\n",
       "  'type': None})"
      ]
     },
     "execution_count": 79,
     "metadata": {},
     "output_type": "execute_result"
    }
   ],
   "source": [
    "# get substance exposures TODO\n",
    "r = requests.get('{}{}/substance/{}/exposures/'.format(api,endpoint,metabolite))\n",
    "r.status_code, r.json()"
   ]
  },
  {
   "cell_type": "code",
   "execution_count": 80,
   "metadata": {},
   "outputs": [
    {
     "data": {
      "text/plain": [
       "(200,\n",
       " {'evidence_graph': {'edges': None, 'nodes': None},\n",
       "  'evidence_types': None,\n",
       "  'id': None,\n",
       "  'object': {'categories': None,\n",
       "   'consider': None,\n",
       "   'deprecated': None,\n",
       "   'description': None,\n",
       "   'id': None,\n",
       "   'label': None,\n",
       "   'replaced_by': None,\n",
       "   'synonyms': None,\n",
       "   'taxon': {'id': None, 'label': None},\n",
       "   'types': None,\n",
       "   'xrefs': None},\n",
       "  'object_extension': None,\n",
       "  'provided_by': None,\n",
       "  'publications': None,\n",
       "  'qualifiers': None,\n",
       "  'relation': {'categories': None,\n",
       "   'consider': None,\n",
       "   'deprecated': None,\n",
       "   'description': None,\n",
       "   'id': None,\n",
       "   'label': None,\n",
       "   'replaced_by': None,\n",
       "   'synonyms': None,\n",
       "   'types': None},\n",
       "  'slim': None,\n",
       "  'subject': {'categories': None,\n",
       "   'consider': None,\n",
       "   'deprecated': None,\n",
       "   'description': None,\n",
       "   'id': None,\n",
       "   'label': None,\n",
       "   'replaced_by': None,\n",
       "   'synonyms': None,\n",
       "   'taxon': {'id': None, 'label': None},\n",
       "   'types': None,\n",
       "   'xrefs': None},\n",
       "  'subject_extension': None,\n",
       "  'type': None})"
      ]
     },
     "execution_count": 80,
     "metadata": {},
     "output_type": "execute_result"
    }
   ],
   "source": [
    "# get substance interactions TODO\n",
    "r = requests.get('{}{}/substance/{}/interactions/'.format(api,endpoint,metabolite))\n",
    "r.status_code, r.json()"
   ]
  },
  {
   "cell_type": "code",
   "execution_count": 90,
   "metadata": {},
   "outputs": [
    {
     "data": {
      "text/plain": [
       "(200,\n",
       " [{'evidence_graph': {'edges': None, 'nodes': None},\n",
       "   'evidence_types': None,\n",
       "   'id': None,\n",
       "   'object': {'categories': None,\n",
       "    'consider': None,\n",
       "    'deprecated': None,\n",
       "    'description': None,\n",
       "    'id': 'CHEBI:506227',\n",
       "    'label': 'N-acetyl-D-glucosamine',\n",
       "    'replaced_by': None,\n",
       "    'synonyms': None,\n",
       "    'taxon': {'id': None, 'label': None},\n",
       "    'types': None,\n",
       "    'xrefs': None},\n",
       "   'object_extension': None,\n",
       "   'provided_by': None,\n",
       "   'publications': None,\n",
       "   'qualifiers': None,\n",
       "   'relation': {'categories': None,\n",
       "    'consider': None,\n",
       "    'deprecated': None,\n",
       "    'description': None,\n",
       "    'id': None,\n",
       "    'label': None,\n",
       "    'replaced_by': None,\n",
       "    'synonyms': None,\n",
       "    'types': None},\n",
       "   'slim': None,\n",
       "   'subject': {'categories': None,\n",
       "    'consider': None,\n",
       "    'deprecated': None,\n",
       "    'description': None,\n",
       "    'id': 'GO:0097315',\n",
       "    'label': 'response to N-acetyl-D-glucosamine',\n",
       "    'replaced_by': None,\n",
       "    'synonyms': None,\n",
       "    'taxon': {'id': None, 'label': None},\n",
       "    'types': None,\n",
       "    'xrefs': None},\n",
       "   'subject_extension': None,\n",
       "   'type': None},\n",
       "  {'evidence_graph': {'edges': None, 'nodes': None},\n",
       "   'evidence_types': None,\n",
       "   'id': None,\n",
       "   'object': {'categories': None,\n",
       "    'consider': None,\n",
       "    'deprecated': None,\n",
       "    'description': None,\n",
       "    'id': 'CHEBI:76969',\n",
       "    'label': 'bacterial metabolite',\n",
       "    'replaced_by': None,\n",
       "    'synonyms': None,\n",
       "    'taxon': {'id': None, 'label': None},\n",
       "    'types': None,\n",
       "    'xrefs': None},\n",
       "   'object_extension': None,\n",
       "   'provided_by': None,\n",
       "   'publications': None,\n",
       "   'qualifiers': None,\n",
       "   'relation': {'categories': None,\n",
       "    'consider': None,\n",
       "    'deprecated': None,\n",
       "    'description': None,\n",
       "    'id': None,\n",
       "    'label': None,\n",
       "    'replaced_by': None,\n",
       "    'synonyms': None,\n",
       "    'types': None},\n",
       "   'slim': None,\n",
       "   'subject': {'categories': None,\n",
       "    'consider': None,\n",
       "    'deprecated': None,\n",
       "    'description': None,\n",
       "    'id': 'CHEBI:506227',\n",
       "    'label': 'N-acetyl-D-glucosamine',\n",
       "    'replaced_by': None,\n",
       "    'synonyms': None,\n",
       "    'taxon': {'id': None, 'label': None},\n",
       "    'types': None,\n",
       "    'xrefs': None},\n",
       "   'subject_extension': None,\n",
       "   'type': None},\n",
       "  {'evidence_graph': {'edges': None, 'nodes': None},\n",
       "   'evidence_types': None,\n",
       "   'id': None,\n",
       "   'object': {'categories': None,\n",
       "    'consider': None,\n",
       "    'deprecated': None,\n",
       "    'description': None,\n",
       "    'id': 'OBO:upheno/monarch.owl',\n",
       "    'label': None,\n",
       "    'replaced_by': None,\n",
       "    'synonyms': None,\n",
       "    'taxon': {'id': None, 'label': None},\n",
       "    'types': None,\n",
       "    'xrefs': None},\n",
       "   'object_extension': None,\n",
       "   'provided_by': None,\n",
       "   'publications': None,\n",
       "   'qualifiers': None,\n",
       "   'relation': {'categories': None,\n",
       "    'consider': None,\n",
       "    'deprecated': None,\n",
       "    'description': None,\n",
       "    'id': None,\n",
       "    'label': None,\n",
       "    'replaced_by': None,\n",
       "    'synonyms': None,\n",
       "    'types': None},\n",
       "   'slim': None,\n",
       "   'subject': {'categories': None,\n",
       "    'consider': None,\n",
       "    'deprecated': None,\n",
       "    'description': None,\n",
       "    'id': 'CHEBI:506227',\n",
       "    'label': 'N-acetyl-D-glucosamine',\n",
       "    'replaced_by': None,\n",
       "    'synonyms': None,\n",
       "    'taxon': {'id': None, 'label': None},\n",
       "    'types': None,\n",
       "    'xrefs': None},\n",
       "   'subject_extension': None,\n",
       "   'type': None},\n",
       "  {'evidence_graph': {'edges': None, 'nodes': None},\n",
       "   'evidence_types': None,\n",
       "   'id': None,\n",
       "   'object': {'categories': None,\n",
       "    'consider': None,\n",
       "    'deprecated': None,\n",
       "    'description': None,\n",
       "    'id': 'CHEBI:506227',\n",
       "    'label': 'N-acetyl-D-glucosamine',\n",
       "    'replaced_by': None,\n",
       "    'synonyms': None,\n",
       "    'taxon': {'id': None, 'label': None},\n",
       "    'types': None,\n",
       "    'xrefs': None},\n",
       "   'object_extension': None,\n",
       "   'provided_by': None,\n",
       "   'publications': None,\n",
       "   'qualifiers': None,\n",
       "   'relation': {'categories': None,\n",
       "    'consider': None,\n",
       "    'deprecated': None,\n",
       "    'description': None,\n",
       "    'id': None,\n",
       "    'label': None,\n",
       "    'replaced_by': None,\n",
       "    'synonyms': None,\n",
       "    'types': None},\n",
       "   'slim': None,\n",
       "   'subject': {'categories': None,\n",
       "    'consider': None,\n",
       "    'deprecated': None,\n",
       "    'description': None,\n",
       "    'id': 'GO:0097316',\n",
       "    'label': 'cellular response to N-acetyl-D-glucosamine',\n",
       "    'replaced_by': None,\n",
       "    'synonyms': None,\n",
       "    'taxon': {'id': None, 'label': None},\n",
       "    'types': None,\n",
       "    'xrefs': None},\n",
       "   'subject_extension': None,\n",
       "   'type': None},\n",
       "  {'evidence_graph': {'edges': None, 'nodes': None},\n",
       "   'evidence_types': None,\n",
       "   'id': None,\n",
       "   'object': {'categories': None,\n",
       "    'consider': None,\n",
       "    'deprecated': None,\n",
       "    'description': None,\n",
       "    'id': 'CHEBI:506227',\n",
       "    'label': 'N-acetyl-D-glucosamine',\n",
       "    'replaced_by': None,\n",
       "    'synonyms': None,\n",
       "    'taxon': {'id': None, 'label': None},\n",
       "    'types': None,\n",
       "    'xrefs': None},\n",
       "   'object_extension': None,\n",
       "   'provided_by': None,\n",
       "   'publications': None,\n",
       "   'qualifiers': None,\n",
       "   'relation': {'categories': None,\n",
       "    'consider': None,\n",
       "    'deprecated': None,\n",
       "    'description': None,\n",
       "    'id': None,\n",
       "    'label': None,\n",
       "    'replaced_by': None,\n",
       "    'synonyms': None,\n",
       "    'types': None},\n",
       "   'slim': None,\n",
       "   'subject': {'categories': None,\n",
       "    'consider': None,\n",
       "    'deprecated': None,\n",
       "    'description': None,\n",
       "    'id': 'GO:0097315',\n",
       "    'label': 'response to N-acetyl-D-glucosamine',\n",
       "    'replaced_by': None,\n",
       "    'synonyms': None,\n",
       "    'taxon': {'id': None, 'label': None},\n",
       "    'types': None,\n",
       "    'xrefs': None},\n",
       "   'subject_extension': None,\n",
       "   'type': None},\n",
       "  {'evidence_graph': {'edges': None, 'nodes': None},\n",
       "   'evidence_types': None,\n",
       "   'id': None,\n",
       "   'object': {'categories': None,\n",
       "    'consider': None,\n",
       "    'deprecated': None,\n",
       "    'description': None,\n",
       "    'id': 'CHEBI:59640',\n",
       "    'label': 'N-acetylglucosamine',\n",
       "    'replaced_by': None,\n",
       "    'synonyms': None,\n",
       "    'taxon': {'id': None, 'label': None},\n",
       "    'types': None,\n",
       "    'xrefs': None},\n",
       "   'object_extension': None,\n",
       "   'provided_by': None,\n",
       "   'publications': None,\n",
       "   'qualifiers': None,\n",
       "   'relation': {'categories': None,\n",
       "    'consider': None,\n",
       "    'deprecated': None,\n",
       "    'description': None,\n",
       "    'id': None,\n",
       "    'label': None,\n",
       "    'replaced_by': None,\n",
       "    'synonyms': None,\n",
       "    'types': None},\n",
       "   'slim': None,\n",
       "   'subject': {'categories': None,\n",
       "    'consider': None,\n",
       "    'deprecated': None,\n",
       "    'description': None,\n",
       "    'id': 'CHEBI:506227',\n",
       "    'label': 'N-acetyl-D-glucosamine',\n",
       "    'replaced_by': None,\n",
       "    'synonyms': None,\n",
       "    'taxon': {'id': None, 'label': None},\n",
       "    'types': None,\n",
       "    'xrefs': None},\n",
       "   'subject_extension': None,\n",
       "   'type': None},\n",
       "  {'evidence_graph': {'edges': None, 'nodes': None},\n",
       "   'evidence_types': None,\n",
       "   'id': None,\n",
       "   'object': {'categories': None,\n",
       "    'consider': None,\n",
       "    'deprecated': None,\n",
       "    'description': None,\n",
       "    'id': 'CHEBI:21601',\n",
       "    'label': 'N-acetyl-D-hexosamine',\n",
       "    'replaced_by': None,\n",
       "    'synonyms': None,\n",
       "    'taxon': {'id': None, 'label': None},\n",
       "    'types': None,\n",
       "    'xrefs': None},\n",
       "   'object_extension': None,\n",
       "   'provided_by': None,\n",
       "   'publications': None,\n",
       "   'qualifiers': None,\n",
       "   'relation': {'categories': None,\n",
       "    'consider': None,\n",
       "    'deprecated': None,\n",
       "    'description': None,\n",
       "    'id': None,\n",
       "    'label': None,\n",
       "    'replaced_by': None,\n",
       "    'synonyms': None,\n",
       "    'types': None},\n",
       "   'slim': None,\n",
       "   'subject': {'categories': None,\n",
       "    'consider': None,\n",
       "    'deprecated': None,\n",
       "    'description': None,\n",
       "    'id': 'CHEBI:506227',\n",
       "    'label': 'N-acetyl-D-glucosamine',\n",
       "    'replaced_by': None,\n",
       "    'synonyms': None,\n",
       "    'taxon': {'id': None, 'label': None},\n",
       "    'types': None,\n",
       "    'xrefs': None},\n",
       "   'subject_extension': None,\n",
       "   'type': None}])"
      ]
     },
     "execution_count": 90,
     "metadata": {},
     "output_type": "execute_result"
    }
   ],
   "source": [
    "# get substance pathways\n",
    "data = {'use_compact_associations':'true'} \n",
    "r = requests.get('{}{}/substance/{}/participant_in/'.format(api,endpoint,metabolite))\n",
    "r.status_code, r.json()"
   ]
  },
  {
   "cell_type": "code",
   "execution_count": 108,
   "metadata": {},
   "outputs": [
    {
     "name": "stdout",
     "output_type": "stream",
     "text": [
      "GO:0097315 response to N-acetyl-D-glucosamine\n",
      "CHEBI:506227 N-acetyl-D-glucosamine\n",
      "CHEBI:506227 N-acetyl-D-glucosamine\n",
      "CHEBI:76969 bacterial metabolite\n",
      "CHEBI:506227 N-acetyl-D-glucosamine\n",
      "OBO:upheno/monarch.owl None\n",
      "GO:0097316 cellular response to N-acetyl-D-glucosamine\n",
      "CHEBI:506227 N-acetyl-D-glucosamine\n",
      "GO:0097315 response to N-acetyl-D-glucosamine\n",
      "CHEBI:506227 N-acetyl-D-glucosamine\n",
      "CHEBI:506227 N-acetyl-D-glucosamine\n",
      "CHEBI:59640 N-acetylglucosamine\n",
      "CHEBI:506227 N-acetyl-D-glucosamine\n",
      "CHEBI:21601 N-acetyl-D-hexosamine\n"
     ]
    }
   ],
   "source": [
    "r_list = r.json()\n",
    "for edge in r_list:\n",
    "    print(edge['subject']['id'],edge['subject']['label'])\n",
    "    print(edge['object']['id'],edge['object']['label'])"
   ]
  },
  {
   "cell_type": "code",
   "execution_count": 84,
   "metadata": {},
   "outputs": [
    {
     "data": {
      "text/plain": [
       "(200,\n",
       " [{'evidence_graph': {'edges': None, 'nodes': None},\n",
       "   'evidence_types': None,\n",
       "   'id': None,\n",
       "   'object': {'categories': None,\n",
       "    'consider': None,\n",
       "    'deprecated': None,\n",
       "    'description': None,\n",
       "    'id': 'CHEBI:76969',\n",
       "    'label': 'bacterial metabolite',\n",
       "    'replaced_by': None,\n",
       "    'synonyms': None,\n",
       "    'taxon': {'id': None, 'label': None},\n",
       "    'types': None,\n",
       "    'xrefs': None},\n",
       "   'object_extension': None,\n",
       "   'provided_by': None,\n",
       "   'publications': None,\n",
       "   'qualifiers': None,\n",
       "   'relation': {'categories': None,\n",
       "    'consider': None,\n",
       "    'deprecated': None,\n",
       "    'description': None,\n",
       "    'id': None,\n",
       "    'label': None,\n",
       "    'replaced_by': None,\n",
       "    'synonyms': None,\n",
       "    'types': None},\n",
       "   'slim': None,\n",
       "   'subject': {'categories': None,\n",
       "    'consider': None,\n",
       "    'deprecated': None,\n",
       "    'description': None,\n",
       "    'id': 'CHEBI:506227',\n",
       "    'label': 'N-acetyl-D-glucosamine',\n",
       "    'replaced_by': None,\n",
       "    'synonyms': None,\n",
       "    'taxon': {'id': None, 'label': None},\n",
       "    'types': None,\n",
       "    'xrefs': None},\n",
       "   'subject_extension': None,\n",
       "   'type': None}])"
      ]
     },
     "execution_count": 84,
     "metadata": {},
     "output_type": "execute_result"
    }
   ],
   "source": [
    "# get substance roles\n",
    "r = requests.get('{}{}/substance/{}/roles/'.format(api,endpoint,metabolite))\n",
    "r.status_code, r.json()"
   ]
  },
  {
   "cell_type": "code",
   "execution_count": 85,
   "metadata": {},
   "outputs": [
    {
     "data": {
      "text/plain": [
       "(200,\n",
       " {'evidence_graph': {'edges': None, 'nodes': None},\n",
       "  'evidence_types': None,\n",
       "  'id': None,\n",
       "  'object': {'categories': None,\n",
       "   'consider': None,\n",
       "   'deprecated': None,\n",
       "   'description': None,\n",
       "   'id': None,\n",
       "   'label': None,\n",
       "   'replaced_by': None,\n",
       "   'synonyms': None,\n",
       "   'taxon': {'id': None, 'label': None},\n",
       "   'types': None,\n",
       "   'xrefs': None},\n",
       "  'object_extension': None,\n",
       "  'provided_by': None,\n",
       "  'publications': None,\n",
       "  'qualifiers': None,\n",
       "  'relation': {'categories': None,\n",
       "   'consider': None,\n",
       "   'deprecated': None,\n",
       "   'description': None,\n",
       "   'id': None,\n",
       "   'label': None,\n",
       "   'replaced_by': None,\n",
       "   'synonyms': None,\n",
       "   'types': None},\n",
       "  'slim': None,\n",
       "  'subject': {'categories': None,\n",
       "   'consider': None,\n",
       "   'deprecated': None,\n",
       "   'description': None,\n",
       "   'id': None,\n",
       "   'label': None,\n",
       "   'replaced_by': None,\n",
       "   'synonyms': None,\n",
       "   'taxon': {'id': None, 'label': None},\n",
       "   'types': None,\n",
       "   'xrefs': None},\n",
       "  'subject_extension': None,\n",
       "  'type': None})"
      ]
     },
     "execution_count": 85,
     "metadata": {},
     "output_type": "execute_result"
    }
   ],
   "source": [
    "# get substance-substance interactions TODO\n",
    "r = requests.get('{}{}/substance/{}/substances/'.format(api,endpoint,metabolite))\n",
    "r.status_code, r.json()"
   ]
  },
  {
   "cell_type": "code",
   "execution_count": 86,
   "metadata": {},
   "outputs": [
    {
     "data": {
      "text/plain": [
       "(200,\n",
       " {'evidence_graph': {'edges': None, 'nodes': None},\n",
       "  'evidence_types': None,\n",
       "  'id': None,\n",
       "  'object': {'categories': None,\n",
       "   'consider': None,\n",
       "   'deprecated': None,\n",
       "   'description': None,\n",
       "   'id': None,\n",
       "   'label': None,\n",
       "   'replaced_by': None,\n",
       "   'synonyms': None,\n",
       "   'taxon': {'id': None, 'label': None},\n",
       "   'types': None,\n",
       "   'xrefs': None},\n",
       "  'object_extension': None,\n",
       "  'provided_by': None,\n",
       "  'publications': None,\n",
       "  'qualifiers': None,\n",
       "  'relation': {'categories': None,\n",
       "   'consider': None,\n",
       "   'deprecated': None,\n",
       "   'description': None,\n",
       "   'id': None,\n",
       "   'label': None,\n",
       "   'replaced_by': None,\n",
       "   'synonyms': None,\n",
       "   'types': None},\n",
       "  'slim': None,\n",
       "  'subject': {'categories': None,\n",
       "   'consider': None,\n",
       "   'deprecated': None,\n",
       "   'description': None,\n",
       "   'id': None,\n",
       "   'label': None,\n",
       "   'replaced_by': None,\n",
       "   'synonyms': None,\n",
       "   'taxon': {'id': None, 'label': None},\n",
       "   'types': None,\n",
       "   'xrefs': None},\n",
       "  'subject_extension': None,\n",
       "  'type': None})"
      ]
     },
     "execution_count": 86,
     "metadata": {},
     "output_type": "execute_result"
    }
   ],
   "source": [
    "# get substance targets TODO\n",
    "r = requests.get('{}{}/substance/{}/targets/'.format(api,endpoint,metabolite))\n",
    "r.status_code, r.json()"
   ]
  },
  {
   "cell_type": "code",
   "execution_count": 87,
   "metadata": {},
   "outputs": [
    {
     "ename": "JSONDecodeError",
     "evalue": "Expecting value: line 1 column 1 (char 0)",
     "output_type": "error",
     "traceback": [
      "\u001b[0;31m---------------------------------------------------------------------------\u001b[0m",
      "\u001b[0;31mJSONDecodeError\u001b[0m                           Traceback (most recent call last)",
      "\u001b[0;32m<ipython-input-87-752193f73796>\u001b[0m in \u001b[0;36m<module>\u001b[0;34m()\u001b[0m\n\u001b[1;32m      1\u001b[0m \u001b[0;31m# get substance indications\u001b[0m\u001b[0;34m\u001b[0m\u001b[0;34m\u001b[0m\u001b[0m\n\u001b[1;32m      2\u001b[0m \u001b[0mr\u001b[0m \u001b[0;34m=\u001b[0m \u001b[0mrequests\u001b[0m\u001b[0;34m.\u001b[0m\u001b[0mget\u001b[0m\u001b[0;34m(\u001b[0m\u001b[0;34m'{}{}/substance/{}/treats/'\u001b[0m\u001b[0;34m.\u001b[0m\u001b[0mformat\u001b[0m\u001b[0;34m(\u001b[0m\u001b[0mapi\u001b[0m\u001b[0;34m,\u001b[0m\u001b[0mendpoint\u001b[0m\u001b[0;34m,\u001b[0m\u001b[0mmetabolite\u001b[0m\u001b[0;34m)\u001b[0m\u001b[0;34m)\u001b[0m\u001b[0;34m\u001b[0m\u001b[0m\n\u001b[0;32m----> 3\u001b[0;31m \u001b[0mr\u001b[0m\u001b[0;34m.\u001b[0m\u001b[0mstatus_code\u001b[0m\u001b[0;34m,\u001b[0m \u001b[0mr\u001b[0m\u001b[0;34m.\u001b[0m\u001b[0mjson\u001b[0m\u001b[0;34m(\u001b[0m\u001b[0;34m)\u001b[0m\u001b[0;34m\u001b[0m\u001b[0m\n\u001b[0m",
      "\u001b[0;32m/usr/lib/python3.5/site-packages/requests/models.py\u001b[0m in \u001b[0;36mjson\u001b[0;34m(self, **kwargs)\u001b[0m\n\u001b[1;32m    810\u001b[0m                     \u001b[0;31m# used.\u001b[0m\u001b[0;34m\u001b[0m\u001b[0;34m\u001b[0m\u001b[0m\n\u001b[1;32m    811\u001b[0m                     \u001b[0;32mpass\u001b[0m\u001b[0;34m\u001b[0m\u001b[0m\n\u001b[0;32m--> 812\u001b[0;31m         \u001b[0;32mreturn\u001b[0m \u001b[0mcomplexjson\u001b[0m\u001b[0;34m.\u001b[0m\u001b[0mloads\u001b[0m\u001b[0;34m(\u001b[0m\u001b[0mself\u001b[0m\u001b[0;34m.\u001b[0m\u001b[0mtext\u001b[0m\u001b[0;34m,\u001b[0m \u001b[0;34m**\u001b[0m\u001b[0mkwargs\u001b[0m\u001b[0;34m)\u001b[0m\u001b[0;34m\u001b[0m\u001b[0m\n\u001b[0m\u001b[1;32m    813\u001b[0m \u001b[0;34m\u001b[0m\u001b[0m\n\u001b[1;32m    814\u001b[0m     \u001b[0;34m@\u001b[0m\u001b[0mproperty\u001b[0m\u001b[0;34m\u001b[0m\u001b[0m\n",
      "\u001b[0;32m/usr/lib64/python3.5/json/__init__.py\u001b[0m in \u001b[0;36mloads\u001b[0;34m(s, encoding, cls, object_hook, parse_float, parse_int, parse_constant, object_pairs_hook, **kw)\u001b[0m\n\u001b[1;32m    317\u001b[0m             \u001b[0mparse_int\u001b[0m \u001b[0;32mis\u001b[0m \u001b[0;32mNone\u001b[0m \u001b[0;32mand\u001b[0m \u001b[0mparse_float\u001b[0m \u001b[0;32mis\u001b[0m \u001b[0;32mNone\u001b[0m \u001b[0;32mand\u001b[0m\u001b[0;34m\u001b[0m\u001b[0m\n\u001b[1;32m    318\u001b[0m             parse_constant is None and object_pairs_hook is None and not kw):\n\u001b[0;32m--> 319\u001b[0;31m         \u001b[0;32mreturn\u001b[0m \u001b[0m_default_decoder\u001b[0m\u001b[0;34m.\u001b[0m\u001b[0mdecode\u001b[0m\u001b[0;34m(\u001b[0m\u001b[0ms\u001b[0m\u001b[0;34m)\u001b[0m\u001b[0;34m\u001b[0m\u001b[0m\n\u001b[0m\u001b[1;32m    320\u001b[0m     \u001b[0;32mif\u001b[0m \u001b[0mcls\u001b[0m \u001b[0;32mis\u001b[0m \u001b[0;32mNone\u001b[0m\u001b[0;34m:\u001b[0m\u001b[0;34m\u001b[0m\u001b[0m\n\u001b[1;32m    321\u001b[0m         \u001b[0mcls\u001b[0m \u001b[0;34m=\u001b[0m \u001b[0mJSONDecoder\u001b[0m\u001b[0;34m\u001b[0m\u001b[0m\n",
      "\u001b[0;32m/usr/lib64/python3.5/json/decoder.py\u001b[0m in \u001b[0;36mdecode\u001b[0;34m(self, s, _w)\u001b[0m\n\u001b[1;32m    337\u001b[0m \u001b[0;34m\u001b[0m\u001b[0m\n\u001b[1;32m    338\u001b[0m         \"\"\"\n\u001b[0;32m--> 339\u001b[0;31m         \u001b[0mobj\u001b[0m\u001b[0;34m,\u001b[0m \u001b[0mend\u001b[0m \u001b[0;34m=\u001b[0m \u001b[0mself\u001b[0m\u001b[0;34m.\u001b[0m\u001b[0mraw_decode\u001b[0m\u001b[0;34m(\u001b[0m\u001b[0ms\u001b[0m\u001b[0;34m,\u001b[0m \u001b[0midx\u001b[0m\u001b[0;34m=\u001b[0m\u001b[0m_w\u001b[0m\u001b[0;34m(\u001b[0m\u001b[0ms\u001b[0m\u001b[0;34m,\u001b[0m \u001b[0;36m0\u001b[0m\u001b[0;34m)\u001b[0m\u001b[0;34m.\u001b[0m\u001b[0mend\u001b[0m\u001b[0;34m(\u001b[0m\u001b[0;34m)\u001b[0m\u001b[0;34m)\u001b[0m\u001b[0;34m\u001b[0m\u001b[0m\n\u001b[0m\u001b[1;32m    340\u001b[0m         \u001b[0mend\u001b[0m \u001b[0;34m=\u001b[0m \u001b[0m_w\u001b[0m\u001b[0;34m(\u001b[0m\u001b[0ms\u001b[0m\u001b[0;34m,\u001b[0m \u001b[0mend\u001b[0m\u001b[0;34m)\u001b[0m\u001b[0;34m.\u001b[0m\u001b[0mend\u001b[0m\u001b[0;34m(\u001b[0m\u001b[0;34m)\u001b[0m\u001b[0;34m\u001b[0m\u001b[0m\n\u001b[1;32m    341\u001b[0m         \u001b[0;32mif\u001b[0m \u001b[0mend\u001b[0m \u001b[0;34m!=\u001b[0m \u001b[0mlen\u001b[0m\u001b[0;34m(\u001b[0m\u001b[0ms\u001b[0m\u001b[0;34m)\u001b[0m\u001b[0;34m:\u001b[0m\u001b[0;34m\u001b[0m\u001b[0m\n",
      "\u001b[0;32m/usr/lib64/python3.5/json/decoder.py\u001b[0m in \u001b[0;36mraw_decode\u001b[0;34m(self, s, idx)\u001b[0m\n\u001b[1;32m    355\u001b[0m             \u001b[0mobj\u001b[0m\u001b[0;34m,\u001b[0m \u001b[0mend\u001b[0m \u001b[0;34m=\u001b[0m \u001b[0mself\u001b[0m\u001b[0;34m.\u001b[0m\u001b[0mscan_once\u001b[0m\u001b[0;34m(\u001b[0m\u001b[0ms\u001b[0m\u001b[0;34m,\u001b[0m \u001b[0midx\u001b[0m\u001b[0;34m)\u001b[0m\u001b[0;34m\u001b[0m\u001b[0m\n\u001b[1;32m    356\u001b[0m         \u001b[0;32mexcept\u001b[0m \u001b[0mStopIteration\u001b[0m \u001b[0;32mas\u001b[0m \u001b[0merr\u001b[0m\u001b[0;34m:\u001b[0m\u001b[0;34m\u001b[0m\u001b[0m\n\u001b[0;32m--> 357\u001b[0;31m             \u001b[0;32mraise\u001b[0m \u001b[0mJSONDecodeError\u001b[0m\u001b[0;34m(\u001b[0m\u001b[0;34m\"Expecting value\"\u001b[0m\u001b[0;34m,\u001b[0m \u001b[0ms\u001b[0m\u001b[0;34m,\u001b[0m \u001b[0merr\u001b[0m\u001b[0;34m.\u001b[0m\u001b[0mvalue\u001b[0m\u001b[0;34m)\u001b[0m \u001b[0;32mfrom\u001b[0m \u001b[0;32mNone\u001b[0m\u001b[0;34m\u001b[0m\u001b[0m\n\u001b[0m\u001b[1;32m    358\u001b[0m         \u001b[0;32mreturn\u001b[0m \u001b[0mobj\u001b[0m\u001b[0;34m,\u001b[0m \u001b[0mend\u001b[0m\u001b[0;34m\u001b[0m\u001b[0m\n",
      "\u001b[0;31mJSONDecodeError\u001b[0m: Expecting value: line 1 column 1 (char 0)"
     ]
    }
   ],
   "source": [
    "# get substance indications\n",
    "r = requests.get('{}{}/substance/{}/treats/'.format(api,endpoint,metabolite))\n",
    "r.status_code, r.json()"
   ]
  },
  {
   "cell_type": "code",
   "execution_count": null,
   "metadata": {
    "collapsed": true
   },
   "outputs": [],
   "source": []
  },
  {
   "cell_type": "code",
   "execution_count": null,
   "metadata": {
    "collapsed": true
   },
   "outputs": [],
   "source": []
  },
  {
   "cell_type": "code",
   "execution_count": null,
   "metadata": {
    "collapsed": true
   },
   "outputs": [],
   "source": []
  },
  {
   "cell_type": "code",
   "execution_count": null,
   "metadata": {
    "collapsed": true
   },
   "outputs": [],
   "source": []
  },
  {
   "cell_type": "code",
   "execution_count": null,
   "metadata": {
    "collapsed": true
   },
   "outputs": [],
   "source": []
  },
  {
   "cell_type": "markdown",
   "metadata": {},
   "source": [
    "# Expansion of nodes using Reactome APIs\n",
    "##### Provides an API for pathway over-representation and expression analysis as well as species comparison tool, so better query the web?\n",
    "* http://www.reactome.org/AnalysisService/\n",
    "* http://www.reactome.org/content/query?\n",
    "* http://reactomews.oicr.on.ca:8080/ReactomeRESTfulAPI/ReactomeRESTFulAPI.html"
   ]
  },
  {
   "cell_type": "code",
   "execution_count": 59,
   "metadata": {
    "collapsed": true
   },
   "outputs": [],
   "source": [
    "# input substance\n",
    "metabolite = 'CHEBI:506227'"
   ]
  },
  {
   "cell_type": "code",
   "execution_count": 60,
   "metadata": {},
   "outputs": [
    {
     "data": {
      "text/plain": [
       "[{'dbId': 2565942,\n",
       "  'displayName': 'Regulation of PLK1 Activity at G2/M Transition',\n",
       "  'hasDiagram': False,\n",
       "  'isInDisease': False,\n",
       "  'isInferred': False,\n",
       "  'schemaClass': 'Pathway',\n",
       "  'species': [{'dbId': 48887,\n",
       "    'displayName': 'Homo sapiens',\n",
       "    'schemaClass': 'Species'}],\n",
       "  'speciesName': 'Homo sapiens',\n",
       "  'stableIdentifier': {'dbId': 3200709,\n",
       "   'displayName': 'R-HSA-2565942.1',\n",
       "   'schemaClass': 'StableIdentifier'}},\n",
       " {'dbId': 8854518,\n",
       "  'displayName': 'AURKA Activation by TPX2',\n",
       "  'hasDiagram': False,\n",
       "  'isInDisease': False,\n",
       "  'isInferred': False,\n",
       "  'releaseStatus': 'NEW',\n",
       "  'schemaClass': 'Pathway',\n",
       "  'species': [{'dbId': 48887,\n",
       "    'displayName': 'Homo sapiens',\n",
       "    'schemaClass': 'Species'}],\n",
       "  'speciesName': 'Homo sapiens',\n",
       "  'stableIdentifier': {'dbId': 8858734,\n",
       "   'displayName': 'R-HSA-8854518.1',\n",
       "   'schemaClass': 'StableIdentifier'}},\n",
       " {'dbId': 5620912,\n",
       "  'displayName': 'Anchoring of the basal body to the plasma membrane',\n",
       "  'hasDiagram': False,\n",
       "  'isInDisease': False,\n",
       "  'isInferred': False,\n",
       "  'schemaClass': 'Pathway',\n",
       "  'species': [{'dbId': 48887,\n",
       "    'displayName': 'Homo sapiens',\n",
       "    'schemaClass': 'Species'}],\n",
       "  'speciesName': 'Homo sapiens',\n",
       "  'stableIdentifier': {'dbId': 5622651,\n",
       "   'displayName': 'R-HSA-5620912.1',\n",
       "   'schemaClass': 'StableIdentifier'}},\n",
       " {'dbId': 380259,\n",
       "  'displayName': 'Loss of Nlp from mitotic centrosomes',\n",
       "  'hasDiagram': False,\n",
       "  'isInDisease': False,\n",
       "  'isInferred': False,\n",
       "  'schemaClass': 'Pathway',\n",
       "  'species': [{'dbId': 48887,\n",
       "    'displayName': 'Homo sapiens',\n",
       "    'schemaClass': 'Species'}],\n",
       "  'speciesName': 'Homo sapiens',\n",
       "  'stableIdentifier': {'dbId': 387628,\n",
       "   'displayName': 'R-HSA-380259.1',\n",
       "   'schemaClass': 'StableIdentifier'}},\n",
       " {'dbId': 380284,\n",
       "  'displayName': 'Loss of proteins required for interphase microtubule organizationÂ\\xa0from the centrosome',\n",
       "  'hasDiagram': False,\n",
       "  'isInDisease': False,\n",
       "  'isInferred': False,\n",
       "  'schemaClass': 'Pathway',\n",
       "  'species': [{'dbId': 48887,\n",
       "    'displayName': 'Homo sapiens',\n",
       "    'schemaClass': 'Species'}],\n",
       "  'speciesName': 'Homo sapiens',\n",
       "  'stableIdentifier': {'dbId': 387715,\n",
       "   'displayName': 'R-HSA-380284.1',\n",
       "   'schemaClass': 'StableIdentifier'}},\n",
       " {'dbId': 380270,\n",
       "  'displayName': 'Recruitment of mitotic centrosome proteins and complexes',\n",
       "  'hasDiagram': False,\n",
       "  'isInDisease': False,\n",
       "  'isInferred': False,\n",
       "  'schemaClass': 'Pathway',\n",
       "  'species': [{'dbId': 48887,\n",
       "    'displayName': 'Homo sapiens',\n",
       "    'schemaClass': 'Species'}],\n",
       "  'speciesName': 'Homo sapiens',\n",
       "  'stableIdentifier': {'dbId': 387559,\n",
       "   'displayName': 'R-HSA-380270.1',\n",
       "   'schemaClass': 'StableIdentifier'}}]"
      ]
     },
     "execution_count": 60,
     "metadata": {},
     "output_type": "execute_result"
    }
   ],
   "source": [
    "# get pathways from input genes\n",
    "# \n",
    "r = requests.post('http://reactomews.oicr.on.ca:8080/ReactomeRESTfulAPI/RESTfulWS/queryHitPathways', data='CEP192', headers={'Content-Type':'application/json'})\n",
    "r.status_code\n",
    "r.headers\n",
    "r.json()"
   ]
  },
  {
   "cell_type": "code",
   "execution_count": 61,
   "metadata": {},
   "outputs": [
    {
     "ename": "JSONDecodeError",
     "evalue": "Expecting value: line 1 column 1 (char 0)",
     "output_type": "error",
     "traceback": [
      "\u001b[0;31m---------------------------------------------------------------------------\u001b[0m",
      "\u001b[0;31mJSONDecodeError\u001b[0m                           Traceback (most recent call last)",
      "\u001b[0;32m<ipython-input-61-e700c432864c>\u001b[0m in \u001b[0;36m<module>\u001b[0;34m()\u001b[0m\n\u001b[1;32m      4\u001b[0m \u001b[0mr\u001b[0m\u001b[0;34m.\u001b[0m\u001b[0mstatus_code\u001b[0m\u001b[0;34m\u001b[0m\u001b[0m\n\u001b[1;32m      5\u001b[0m \u001b[0mr\u001b[0m\u001b[0;34m.\u001b[0m\u001b[0mheaders\u001b[0m\u001b[0;34m\u001b[0m\u001b[0m\n\u001b[0;32m----> 6\u001b[0;31m \u001b[0mr\u001b[0m\u001b[0;34m.\u001b[0m\u001b[0mjson\u001b[0m\u001b[0;34m(\u001b[0m\u001b[0;34m)\u001b[0m\u001b[0;34m\u001b[0m\u001b[0m\n\u001b[0m",
      "\u001b[0;32m/usr/lib/python3.5/site-packages/requests/models.py\u001b[0m in \u001b[0;36mjson\u001b[0;34m(self, **kwargs)\u001b[0m\n\u001b[1;32m    810\u001b[0m                     \u001b[0;31m# used.\u001b[0m\u001b[0;34m\u001b[0m\u001b[0;34m\u001b[0m\u001b[0m\n\u001b[1;32m    811\u001b[0m                     \u001b[0;32mpass\u001b[0m\u001b[0;34m\u001b[0m\u001b[0m\n\u001b[0;32m--> 812\u001b[0;31m         \u001b[0;32mreturn\u001b[0m \u001b[0mcomplexjson\u001b[0m\u001b[0;34m.\u001b[0m\u001b[0mloads\u001b[0m\u001b[0;34m(\u001b[0m\u001b[0mself\u001b[0m\u001b[0;34m.\u001b[0m\u001b[0mtext\u001b[0m\u001b[0;34m,\u001b[0m \u001b[0;34m**\u001b[0m\u001b[0mkwargs\u001b[0m\u001b[0;34m)\u001b[0m\u001b[0;34m\u001b[0m\u001b[0m\n\u001b[0m\u001b[1;32m    813\u001b[0m \u001b[0;34m\u001b[0m\u001b[0m\n\u001b[1;32m    814\u001b[0m     \u001b[0;34m@\u001b[0m\u001b[0mproperty\u001b[0m\u001b[0;34m\u001b[0m\u001b[0m\n",
      "\u001b[0;32m/usr/lib64/python3.5/json/__init__.py\u001b[0m in \u001b[0;36mloads\u001b[0;34m(s, encoding, cls, object_hook, parse_float, parse_int, parse_constant, object_pairs_hook, **kw)\u001b[0m\n\u001b[1;32m    317\u001b[0m             \u001b[0mparse_int\u001b[0m \u001b[0;32mis\u001b[0m \u001b[0;32mNone\u001b[0m \u001b[0;32mand\u001b[0m \u001b[0mparse_float\u001b[0m \u001b[0;32mis\u001b[0m \u001b[0;32mNone\u001b[0m \u001b[0;32mand\u001b[0m\u001b[0;34m\u001b[0m\u001b[0m\n\u001b[1;32m    318\u001b[0m             parse_constant is None and object_pairs_hook is None and not kw):\n\u001b[0;32m--> 319\u001b[0;31m         \u001b[0;32mreturn\u001b[0m \u001b[0m_default_decoder\u001b[0m\u001b[0;34m.\u001b[0m\u001b[0mdecode\u001b[0m\u001b[0;34m(\u001b[0m\u001b[0ms\u001b[0m\u001b[0;34m)\u001b[0m\u001b[0;34m\u001b[0m\u001b[0m\n\u001b[0m\u001b[1;32m    320\u001b[0m     \u001b[0;32mif\u001b[0m \u001b[0mcls\u001b[0m \u001b[0;32mis\u001b[0m \u001b[0;32mNone\u001b[0m\u001b[0;34m:\u001b[0m\u001b[0;34m\u001b[0m\u001b[0m\n\u001b[1;32m    321\u001b[0m         \u001b[0mcls\u001b[0m \u001b[0;34m=\u001b[0m \u001b[0mJSONDecoder\u001b[0m\u001b[0;34m\u001b[0m\u001b[0m\n",
      "\u001b[0;32m/usr/lib64/python3.5/json/decoder.py\u001b[0m in \u001b[0;36mdecode\u001b[0;34m(self, s, _w)\u001b[0m\n\u001b[1;32m    337\u001b[0m \u001b[0;34m\u001b[0m\u001b[0m\n\u001b[1;32m    338\u001b[0m         \"\"\"\n\u001b[0;32m--> 339\u001b[0;31m         \u001b[0mobj\u001b[0m\u001b[0;34m,\u001b[0m \u001b[0mend\u001b[0m \u001b[0;34m=\u001b[0m \u001b[0mself\u001b[0m\u001b[0;34m.\u001b[0m\u001b[0mraw_decode\u001b[0m\u001b[0;34m(\u001b[0m\u001b[0ms\u001b[0m\u001b[0;34m,\u001b[0m \u001b[0midx\u001b[0m\u001b[0;34m=\u001b[0m\u001b[0m_w\u001b[0m\u001b[0;34m(\u001b[0m\u001b[0ms\u001b[0m\u001b[0;34m,\u001b[0m \u001b[0;36m0\u001b[0m\u001b[0;34m)\u001b[0m\u001b[0;34m.\u001b[0m\u001b[0mend\u001b[0m\u001b[0;34m(\u001b[0m\u001b[0;34m)\u001b[0m\u001b[0;34m)\u001b[0m\u001b[0;34m\u001b[0m\u001b[0m\n\u001b[0m\u001b[1;32m    340\u001b[0m         \u001b[0mend\u001b[0m \u001b[0;34m=\u001b[0m \u001b[0m_w\u001b[0m\u001b[0;34m(\u001b[0m\u001b[0ms\u001b[0m\u001b[0;34m,\u001b[0m \u001b[0mend\u001b[0m\u001b[0;34m)\u001b[0m\u001b[0;34m.\u001b[0m\u001b[0mend\u001b[0m\u001b[0;34m(\u001b[0m\u001b[0;34m)\u001b[0m\u001b[0;34m\u001b[0m\u001b[0m\n\u001b[1;32m    341\u001b[0m         \u001b[0;32mif\u001b[0m \u001b[0mend\u001b[0m \u001b[0;34m!=\u001b[0m \u001b[0mlen\u001b[0m\u001b[0;34m(\u001b[0m\u001b[0ms\u001b[0m\u001b[0;34m)\u001b[0m\u001b[0;34m:\u001b[0m\u001b[0;34m\u001b[0m\u001b[0m\n",
      "\u001b[0;32m/usr/lib64/python3.5/json/decoder.py\u001b[0m in \u001b[0;36mraw_decode\u001b[0;34m(self, s, idx)\u001b[0m\n\u001b[1;32m    355\u001b[0m             \u001b[0mobj\u001b[0m\u001b[0;34m,\u001b[0m \u001b[0mend\u001b[0m \u001b[0;34m=\u001b[0m \u001b[0mself\u001b[0m\u001b[0;34m.\u001b[0m\u001b[0mscan_once\u001b[0m\u001b[0;34m(\u001b[0m\u001b[0ms\u001b[0m\u001b[0;34m,\u001b[0m \u001b[0midx\u001b[0m\u001b[0;34m)\u001b[0m\u001b[0;34m\u001b[0m\u001b[0m\n\u001b[1;32m    356\u001b[0m         \u001b[0;32mexcept\u001b[0m \u001b[0mStopIteration\u001b[0m \u001b[0;32mas\u001b[0m \u001b[0merr\u001b[0m\u001b[0;34m:\u001b[0m\u001b[0;34m\u001b[0m\u001b[0m\n\u001b[0;32m--> 357\u001b[0;31m             \u001b[0;32mraise\u001b[0m \u001b[0mJSONDecodeError\u001b[0m\u001b[0;34m(\u001b[0m\u001b[0;34m\"Expecting value\"\u001b[0m\u001b[0;34m,\u001b[0m \u001b[0ms\u001b[0m\u001b[0;34m,\u001b[0m \u001b[0merr\u001b[0m\u001b[0;34m.\u001b[0m\u001b[0mvalue\u001b[0m\u001b[0;34m)\u001b[0m \u001b[0;32mfrom\u001b[0m \u001b[0;32mNone\u001b[0m\u001b[0;34m\u001b[0m\u001b[0m\n\u001b[0m\u001b[1;32m    358\u001b[0m         \u001b[0;32mreturn\u001b[0m \u001b[0mobj\u001b[0m\u001b[0;34m,\u001b[0m \u001b[0mend\u001b[0m\u001b[0;34m\u001b[0m\u001b[0m\n",
      "\u001b[0;31mJSONDecodeError\u001b[0m: Expecting value: line 1 column 1 (char 0)"
     ]
    }
   ],
   "source": [
    "# get infor for glcnac\n",
    "# \n",
    "r = requests.post('http://reactomews.oicr.on.ca:8080/ReactomeRESTfulAPI/RESTfulWS/queryById/DatabaseObject', data='R-ALL-2855066', headers={'Content-Type':'application/json'})\n",
    "r.status_code\n",
    "r.headers\n",
    "r.json()"
   ]
  },
  {
   "cell_type": "code",
   "execution_count": 76,
   "metadata": {},
   "outputs": [
    {
     "ename": "JSONDecodeError",
     "evalue": "Expecting value: line 1 column 1 (char 0)",
     "output_type": "error",
     "traceback": [
      "\u001b[0;31m---------------------------------------------------------------------------\u001b[0m",
      "\u001b[0;31mJSONDecodeError\u001b[0m                           Traceback (most recent call last)",
      "\u001b[0;32m<ipython-input-76-a59c9e9067a5>\u001b[0m in \u001b[0;36m<module>\u001b[0;34m()\u001b[0m\n\u001b[1;32m      4\u001b[0m \u001b[0mr\u001b[0m\u001b[0;34m.\u001b[0m\u001b[0mstatus_code\u001b[0m\u001b[0;34m\u001b[0m\u001b[0m\n\u001b[1;32m      5\u001b[0m \u001b[0mr\u001b[0m\u001b[0;34m.\u001b[0m\u001b[0mheaders\u001b[0m\u001b[0;34m\u001b[0m\u001b[0m\n\u001b[0;32m----> 6\u001b[0;31m \u001b[0mr\u001b[0m\u001b[0;34m.\u001b[0m\u001b[0mjson\u001b[0m\u001b[0;34m(\u001b[0m\u001b[0;34m)\u001b[0m\u001b[0;34m\u001b[0m\u001b[0m\n\u001b[0m",
      "\u001b[0;32m/usr/lib/python3.5/site-packages/requests/models.py\u001b[0m in \u001b[0;36mjson\u001b[0;34m(self, **kwargs)\u001b[0m\n\u001b[1;32m    810\u001b[0m                     \u001b[0;31m# used.\u001b[0m\u001b[0;34m\u001b[0m\u001b[0;34m\u001b[0m\u001b[0m\n\u001b[1;32m    811\u001b[0m                     \u001b[0;32mpass\u001b[0m\u001b[0;34m\u001b[0m\u001b[0m\n\u001b[0;32m--> 812\u001b[0;31m         \u001b[0;32mreturn\u001b[0m \u001b[0mcomplexjson\u001b[0m\u001b[0;34m.\u001b[0m\u001b[0mloads\u001b[0m\u001b[0;34m(\u001b[0m\u001b[0mself\u001b[0m\u001b[0;34m.\u001b[0m\u001b[0mtext\u001b[0m\u001b[0;34m,\u001b[0m \u001b[0;34m**\u001b[0m\u001b[0mkwargs\u001b[0m\u001b[0;34m)\u001b[0m\u001b[0;34m\u001b[0m\u001b[0m\n\u001b[0m\u001b[1;32m    813\u001b[0m \u001b[0;34m\u001b[0m\u001b[0m\n\u001b[1;32m    814\u001b[0m     \u001b[0;34m@\u001b[0m\u001b[0mproperty\u001b[0m\u001b[0;34m\u001b[0m\u001b[0m\n",
      "\u001b[0;32m/usr/lib64/python3.5/json/__init__.py\u001b[0m in \u001b[0;36mloads\u001b[0;34m(s, encoding, cls, object_hook, parse_float, parse_int, parse_constant, object_pairs_hook, **kw)\u001b[0m\n\u001b[1;32m    317\u001b[0m             \u001b[0mparse_int\u001b[0m \u001b[0;32mis\u001b[0m \u001b[0;32mNone\u001b[0m \u001b[0;32mand\u001b[0m \u001b[0mparse_float\u001b[0m \u001b[0;32mis\u001b[0m \u001b[0;32mNone\u001b[0m \u001b[0;32mand\u001b[0m\u001b[0;34m\u001b[0m\u001b[0m\n\u001b[1;32m    318\u001b[0m             parse_constant is None and object_pairs_hook is None and not kw):\n\u001b[0;32m--> 319\u001b[0;31m         \u001b[0;32mreturn\u001b[0m \u001b[0m_default_decoder\u001b[0m\u001b[0;34m.\u001b[0m\u001b[0mdecode\u001b[0m\u001b[0;34m(\u001b[0m\u001b[0ms\u001b[0m\u001b[0;34m)\u001b[0m\u001b[0;34m\u001b[0m\u001b[0m\n\u001b[0m\u001b[1;32m    320\u001b[0m     \u001b[0;32mif\u001b[0m \u001b[0mcls\u001b[0m \u001b[0;32mis\u001b[0m \u001b[0;32mNone\u001b[0m\u001b[0;34m:\u001b[0m\u001b[0;34m\u001b[0m\u001b[0m\n\u001b[1;32m    321\u001b[0m         \u001b[0mcls\u001b[0m \u001b[0;34m=\u001b[0m \u001b[0mJSONDecoder\u001b[0m\u001b[0;34m\u001b[0m\u001b[0m\n",
      "\u001b[0;32m/usr/lib64/python3.5/json/decoder.py\u001b[0m in \u001b[0;36mdecode\u001b[0;34m(self, s, _w)\u001b[0m\n\u001b[1;32m    337\u001b[0m \u001b[0;34m\u001b[0m\u001b[0m\n\u001b[1;32m    338\u001b[0m         \"\"\"\n\u001b[0;32m--> 339\u001b[0;31m         \u001b[0mobj\u001b[0m\u001b[0;34m,\u001b[0m \u001b[0mend\u001b[0m \u001b[0;34m=\u001b[0m \u001b[0mself\u001b[0m\u001b[0;34m.\u001b[0m\u001b[0mraw_decode\u001b[0m\u001b[0;34m(\u001b[0m\u001b[0ms\u001b[0m\u001b[0;34m,\u001b[0m \u001b[0midx\u001b[0m\u001b[0;34m=\u001b[0m\u001b[0m_w\u001b[0m\u001b[0;34m(\u001b[0m\u001b[0ms\u001b[0m\u001b[0;34m,\u001b[0m \u001b[0;36m0\u001b[0m\u001b[0;34m)\u001b[0m\u001b[0;34m.\u001b[0m\u001b[0mend\u001b[0m\u001b[0;34m(\u001b[0m\u001b[0;34m)\u001b[0m\u001b[0;34m)\u001b[0m\u001b[0;34m\u001b[0m\u001b[0m\n\u001b[0m\u001b[1;32m    340\u001b[0m         \u001b[0mend\u001b[0m \u001b[0;34m=\u001b[0m \u001b[0m_w\u001b[0m\u001b[0;34m(\u001b[0m\u001b[0ms\u001b[0m\u001b[0;34m,\u001b[0m \u001b[0mend\u001b[0m\u001b[0;34m)\u001b[0m\u001b[0;34m.\u001b[0m\u001b[0mend\u001b[0m\u001b[0;34m(\u001b[0m\u001b[0;34m)\u001b[0m\u001b[0;34m\u001b[0m\u001b[0m\n\u001b[1;32m    341\u001b[0m         \u001b[0;32mif\u001b[0m \u001b[0mend\u001b[0m \u001b[0;34m!=\u001b[0m \u001b[0mlen\u001b[0m\u001b[0;34m(\u001b[0m\u001b[0ms\u001b[0m\u001b[0;34m)\u001b[0m\u001b[0;34m:\u001b[0m\u001b[0;34m\u001b[0m\u001b[0m\n",
      "\u001b[0;32m/usr/lib64/python3.5/json/decoder.py\u001b[0m in \u001b[0;36mraw_decode\u001b[0;34m(self, s, idx)\u001b[0m\n\u001b[1;32m    355\u001b[0m             \u001b[0mobj\u001b[0m\u001b[0;34m,\u001b[0m \u001b[0mend\u001b[0m \u001b[0;34m=\u001b[0m \u001b[0mself\u001b[0m\u001b[0;34m.\u001b[0m\u001b[0mscan_once\u001b[0m\u001b[0;34m(\u001b[0m\u001b[0ms\u001b[0m\u001b[0;34m,\u001b[0m \u001b[0midx\u001b[0m\u001b[0;34m)\u001b[0m\u001b[0;34m\u001b[0m\u001b[0m\n\u001b[1;32m    356\u001b[0m         \u001b[0;32mexcept\u001b[0m \u001b[0mStopIteration\u001b[0m \u001b[0;32mas\u001b[0m \u001b[0merr\u001b[0m\u001b[0;34m:\u001b[0m\u001b[0;34m\u001b[0m\u001b[0m\n\u001b[0;32m--> 357\u001b[0;31m             \u001b[0;32mraise\u001b[0m \u001b[0mJSONDecodeError\u001b[0m\u001b[0;34m(\u001b[0m\u001b[0;34m\"Expecting value\"\u001b[0m\u001b[0;34m,\u001b[0m \u001b[0ms\u001b[0m\u001b[0;34m,\u001b[0m \u001b[0merr\u001b[0m\u001b[0;34m.\u001b[0m\u001b[0mvalue\u001b[0m\u001b[0;34m)\u001b[0m \u001b[0;32mfrom\u001b[0m \u001b[0;32mNone\u001b[0m\u001b[0;34m\u001b[0m\u001b[0m\n\u001b[0m\u001b[1;32m    358\u001b[0m         \u001b[0;32mreturn\u001b[0m \u001b[0mobj\u001b[0m\u001b[0;34m,\u001b[0m \u001b[0mend\u001b[0m\u001b[0;34m\u001b[0m\u001b[0m\n",
      "\u001b[0;31mJSONDecodeError\u001b[0m: Expecting value: line 1 column 1 (char 0)"
     ]
    }
   ],
   "source": [
    "# get pathways from input genes\n",
    "# \n",
    "r = requests.post('http://reactomews.oicr.on.ca:8080/ReactomeRESTfulAPI/RESTfulWS/pathwaysForEntities', data='R-ALL-2855066', headers={'Content-Type':'application/json'})\n",
    "r.status_code\n",
    "r.headers\n",
    "r.json()"
   ]
  },
  {
   "cell_type": "code",
   "execution_count": null,
   "metadata": {
    "collapsed": true,
    "scrolled": false
   },
   "outputs": [],
   "source": [
    "# Reactome contains: Proteins (40) with glcnac as a component (not retrievable from the api), complex (41), pw (24) \n",
    "# reactions (93), set (7). "
   ]
  },
  {
   "cell_type": "markdown",
   "metadata": {},
   "source": [
    "## Query Wikidata for Knowldege.Bio"
   ]
  },
  {
   "cell_type": "code",
   "execution_count": 62,
   "metadata": {
    "collapsed": true
   },
   "outputs": [],
   "source": [
    "# api address:\n",
    "api = 'https://query.wikidata.org/sparql'\n",
    "\n",
    "# output files\n",
    "path = 'glcnac_human_expansion/glcnac_human'"
   ]
  },
  {
   "cell_type": "code",
   "execution_count": 63,
   "metadata": {
    "collapsed": true
   },
   "outputs": [],
   "source": [
    "def generate_table(header, results):\n",
    "    df = {}\n",
    "    for res_d in results:\n",
    "        for head in header:\n",
    "            df[head] = []\n",
    "        \n",
    "    for res_d in results:\n",
    "        for head in header:\n",
    "            try:\n",
    "                value = res_d[head]['value']\n",
    "            except:\n",
    "                value = 'NA'\n",
    "            if value.startswith('http'):\n",
    "                namespace, value = value.rsplit('/', 1)\n",
    "            aux = df[head]\n",
    "            aux.append(value)\n",
    "            df[head] = aux\n",
    "            \n",
    "    try:\n",
    "        results_df = pd.DataFrame.from_dict(df)\n",
    "    except e:\n",
    "        print(e)\n",
    "        print(df)\n",
    "        \n",
    "    results_df = results_df[header]\n",
    "    return results_df"
   ]
  },
  {
   "cell_type": "code",
   "execution_count": 64,
   "metadata": {},
   "outputs": [
    {
     "data": {
      "text/plain": [
       "'\"Q9Y223\" \"P51606\" \"O60909\" \"P15291\" \"P07686\" \"P06865\" \"Q9UJ70\" \"Q9BZP6\" \"Q9UK23\" \"Q13231\" \"O60512\" \"O60513\" \"P54802\" \"P61626\" \"Q8WZA1\" \"Q6UWQ5\" \"Q7Z4W2\" \"Q96QH8\" \"O75951\" \"P36222\" \"Q15782\" \"Q8WVB3\" \"O60502\"'"
      ]
     },
     "execution_count": 64,
     "metadata": {},
     "output_type": "execute_result"
    }
   ],
   "source": [
    "# get Uniprot (enzymes from hmdb):\n",
    "\n",
    "# get input_list\n",
    "input_df = pd.read_table('/home/nuria/workspace/ngly1_hg/glcnac_human_expansion/glcnac_human_uniprot_enzymes_hmdb.csv')\n",
    "input_df['id'] = input_df.protein_id.apply(lambda x: '\"' + str(x.split(':')[1]) + '\"')\n",
    "input_l = list(input_df['id'])\n",
    "input_s = ' '.join(input_l)\n",
    "input_s"
   ]
  },
  {
   "cell_type": "code",
   "execution_count": 65,
   "metadata": {
    "collapsed": true
   },
   "outputs": [],
   "source": [
    "# query\n",
    "query = \"\"\"SELECT DISTINCT ?id ?item ?itemLabel (group_concat(distinct ?itemaltLabel; separator=\"|\") as ?altLabel) ?itemDesc\n",
    "WHERE\n",
    "{\n",
    "  {?item wdt:P352 ?id .} # uniprot id\n",
    "  values ?id {\"\"\" + input_s + \"\"\"}\n",
    "  OPTIONAL{\n",
    "  ?item skos:altLabel ?itemaltLabel .\n",
    "    FILTER(LANG(?itemaltLabel) = \"en\")\n",
    "  ?item schema:description ?itemDesc .\n",
    "    FILTER(LANG(?itemDesc) = \"en\")\n",
    "  }\n",
    "  SERVICE wikibase:label { bd:serviceParam wikibase:language \"en\" }\n",
    "}\n",
    "group by ?item ?id ?itemLabel ?itemDesc\"\"\""
   ]
  },
  {
   "cell_type": "code",
   "execution_count": 66,
   "metadata": {},
   "outputs": [
    {
     "data": {
      "text/plain": [
       "{'head': {'vars': ['id', 'item', 'itemLabel', 'altLabel', 'itemDesc']},\n",
       " 'results': {'bindings': [{'altLabel': {'type': 'literal',\n",
       "     'value': 'LYZL1|lysozyme D1|lysozyme-like protein 1'},\n",
       "    'id': {'type': 'literal', 'value': 'Q6UWQ5'},\n",
       "    'item': {'type': 'uri',\n",
       "     'value': 'http://www.wikidata.org/entity/Q21122346'},\n",
       "    'itemDesc': {'type': 'literal',\n",
       "     'value': 'mammalian protein found in Homo sapiens',\n",
       "     'xml:lang': 'en'},\n",
       "    'itemLabel': {'type': 'literal',\n",
       "     'value': 'Lysozyme like 1',\n",
       "     'xml:lang': 'en'}},\n",
       "   {'altLabel': {'type': 'literal',\n",
       "     'value': 'HEXA|N-acetyl-beta-glucosaminidase subunit alpha|hexosaminidase A (alpha polypeptide)|beta-hexosaminidase subunit alpha|beta-N-acetylhexosaminidase subunit alpha|hexosaminidase subunit A'},\n",
       "    'id': {'type': 'literal', 'value': 'P06865'},\n",
       "    'item': {'type': 'uri',\n",
       "     'value': 'http://www.wikidata.org/entity/Q21120577'},\n",
       "    'itemDesc': {'type': 'literal',\n",
       "     'value': 'mammalian protein found in Homo sapiens',\n",
       "     'xml:lang': 'en'},\n",
       "    'itemLabel': {'type': 'literal',\n",
       "     'value': 'Hexosaminidase subunit alpha',\n",
       "     'xml:lang': 'en'}},\n",
       "   {'altLabel': {'type': 'literal',\n",
       "     'value': 'B4GALT2|beta-1,4-galactosyltransferase 2|UDP-Gal:beta-GlcNAc beta-1,4-galactosyltransferase 2|UDP-galactose:beta-N-acetylglucosamine beta-1,4-galactosyltransferase 2|beta-1,4-GalTase 2|beta-4-GalT2|beta-N-acetylglucosaminyl-glycolipid beta-1,4-galactosyltransferase 2|UDP-Gal:betaGlcNAc beta 1,4- galactosyltransferase 2|UDP-Gal:betaGlcNAc beta 1,4-galactosyltransferase, polypeptide 2'},\n",
       "    'id': {'type': 'literal', 'value': 'O60909'},\n",
       "    'item': {'type': 'uri',\n",
       "     'value': 'http://www.wikidata.org/entity/Q21108255'},\n",
       "    'itemDesc': {'type': 'literal',\n",
       "     'value': 'mammalian protein found in Homo sapiens',\n",
       "     'xml:lang': 'en'},\n",
       "    'itemLabel': {'type': 'literal',\n",
       "     'value': 'Beta-1,4-galactosyltransferase 2',\n",
       "     'xml:lang': 'en'}},\n",
       "   {'altLabel': {'type': 'literal',\n",
       "     'value': 'UDP-Gal:beta-GlcNAc beta-1,4-galactosyltransferase 4|UDP-galactose:beta-N-acetylglucosamine beta-1,4-galactosyltransferase 4|B4GALT4|beta-1,4-galactosyltransferase 4|UDP-Gal:betaGlcNAc beta 1,4- galactosyltransferase, polypeptide 4|beta-1,4-GalTase 4|beta-N-acetylglucosaminyl-glycolipid beta-1,4-galactosyltransferase 4|UDP-Gal:betaGlcNAc beta 1,4- galactosyltransferase 4'},\n",
       "    'id': {'type': 'literal', 'value': 'O60513'},\n",
       "    'item': {'type': 'uri',\n",
       "     'value': 'http://www.wikidata.org/entity/Q21112769'},\n",
       "    'itemDesc': {'type': 'literal',\n",
       "     'value': 'mammalian protein found in Homo sapiens',\n",
       "     'xml:lang': 'en'},\n",
       "    'itemLabel': {'type': 'literal',\n",
       "     'value': 'Beta-1,4-galactosyltransferase 4',\n",
       "     'xml:lang': 'en'}},\n",
       "   {'altLabel': {'type': 'literal',\n",
       "     'value': 'GnT I.2|POMGNT1|UDP-GlcNAc:alpha-D-mannoside beta-1,2-N-acetylglucosaminyltransferase I.2|protein O-linked-mannose beta-1,2-N-acetylglucosaminyltransferase 1'},\n",
       "    'id': {'type': 'literal', 'value': 'Q8WZA1'},\n",
       "    'item': {'type': 'uri',\n",
       "     'value': 'http://www.wikidata.org/entity/Q21133271'},\n",
       "    'itemDesc': {'type': 'literal',\n",
       "     'value': 'mammalian protein found in Homo sapiens',\n",
       "     'xml:lang': 'en'},\n",
       "    'itemLabel': {'type': 'literal',\n",
       "     'value': 'Protein O-linked mannose N-acetylglucosaminyltransferase 1 (beta 1,2-)',\n",
       "     'xml:lang': 'en'}},\n",
       "   {'altLabel': {'type': 'literal',\n",
       "     'value': 'CHIA|acidic mammalian chitinase|lung-specific protein TSA1902'},\n",
       "    'id': {'type': 'literal', 'value': 'Q9BZP6'},\n",
       "    'item': {'type': 'uri',\n",
       "     'value': 'http://www.wikidata.org/entity/Q21100758'},\n",
       "    'itemDesc': {'type': 'literal',\n",
       "     'value': 'mammalian protein found in Homo sapiens',\n",
       "     'xml:lang': 'en'},\n",
       "    'itemLabel': {'type': 'literal',\n",
       "     'value': 'Chitinase, acidic',\n",
       "     'xml:lang': 'en'}},\n",
       "   {'altLabel': {'type': 'literal',\n",
       "     'value': 'CHI3L2|YKL-39|chitinase-3-like protein 2|chondrocyte protein 39'},\n",
       "    'id': {'type': 'literal', 'value': 'Q15782'},\n",
       "    'item': {'type': 'uri',\n",
       "     'value': 'http://www.wikidata.org/entity/Q21117212'},\n",
       "    'itemDesc': {'type': 'literal',\n",
       "     'value': 'mammalian protein found in Homo sapiens',\n",
       "     'xml:lang': 'en'},\n",
       "    'itemLabel': {'type': 'literal',\n",
       "     'value': 'Chitinase 3 like 2',\n",
       "     'xml:lang': 'en'}},\n",
       "   {'altLabel': {'type': 'literal',\n",
       "     'value': 'hexosaminidase (glycosyl hydrolase family 20, catalytic domain) containing|Beta-N-acetylhexosaminidase|HEXDC|N-acetyl-beta-galactosaminidase|hexosaminidase D|hexosaminidase domain-containing protein|hexosaminidase D, cytosolic|beta-hexosaminidase D'},\n",
       "    'id': {'type': 'literal', 'value': 'Q8WVB3'},\n",
       "    'item': {'type': 'uri',\n",
       "     'value': 'http://www.wikidata.org/entity/Q21120600'},\n",
       "    'itemDesc': {'type': 'literal',\n",
       "     'value': 'mammalian protein found in Homo sapiens',\n",
       "     'xml:lang': 'en'},\n",
       "    'itemLabel': {'type': 'literal',\n",
       "     'value': 'Hexosaminidase D',\n",
       "     'xml:lang': 'en'}},\n",
       "   {'altLabel': {'type': 'literal',\n",
       "     'value': 'B4GALT1|beta-1,4-galactosyltransferase 1|UDP-Gal:betaGlcNAc beta 1,4- galactosyltransferase, polypeptide 1|UDP-Gal:beta-GlcNAc beta-1,4-galactosyltransferase 1|UDP-galactose:beta-N-acetylglucosamine beta-1,4-galactosyltransferase 1|beta-1,4-GalTase 1|glycoprotein-4-beta-galactosyltransferase 2|lactose synthase'},\n",
       "    'id': {'type': 'literal', 'value': 'P15291'},\n",
       "    'item': {'type': 'uri',\n",
       "     'value': 'http://www.wikidata.org/entity/Q21112774'},\n",
       "    'itemDesc': {'type': 'literal',\n",
       "     'value': 'mammalian protein found in Homo sapiens',\n",
       "     'xml:lang': 'en'},\n",
       "    'itemLabel': {'type': 'literal',\n",
       "     'value': 'Beta-1,4-galactosyltransferase 1',\n",
       "     'xml:lang': 'en'}},\n",
       "   {'altLabel': {'type': 'literal',\n",
       "     'value': '1,4-beta-N-acetylmuramidase C|LYZ|lysozyme C|c-type lysozyme|lysozyme F1'},\n",
       "    'id': {'type': 'literal', 'value': 'P61626'},\n",
       "    'item': {'type': 'uri',\n",
       "     'value': 'http://www.wikidata.org/entity/Q21114915'},\n",
       "    'itemDesc': {'type': 'literal',\n",
       "     'value': 'mammalian protein found in Homo sapiens',\n",
       "     'xml:lang': 'en'},\n",
       "    'itemLabel': {'type': 'literal', 'value': 'Lysozyme', 'xml:lang': 'en'}},\n",
       "   {'altLabel': {'type': 'literal',\n",
       "     'value': 'Chitinase-1|CHIT1|chitinase 1 (chitotriosidase)|chitotriosidase-1|plasma methylumbelliferyl tetra-N-acetylchitotetraoside hydrolase'},\n",
       "    'id': {'type': 'literal', 'value': 'Q13231'},\n",
       "    'item': {'type': 'uri',\n",
       "     'value': 'http://www.wikidata.org/entity/Q21117216'},\n",
       "    'itemDesc': {'type': 'literal',\n",
       "     'value': 'mammalian protein found in Homo sapiens',\n",
       "     'xml:lang': 'en'},\n",
       "    'itemLabel': {'type': 'literal',\n",
       "     'value': 'Chitinase 1',\n",
       "     'xml:lang': 'en'}},\n",
       "   {'altLabel': {'type': 'literal',\n",
       "     'value': 'N-acetyl-beta-D-glucosaminidase|N-acetyl-beta-glucosaminidase|MGEA5|3.2.1.-|NCOAT|O-GlcNAcase|protein O-GlcNAcase|bifunctional protein NCOAT|nuclear cytoplasmic O-GlcNAcase and acetyltransferase|beta-N-acetylhexosaminidase|hyaluronidase in meningioma|beta-hexosaminidase|meningioma-expressed antigen 5|beta-N-acetylglucosaminidase'},\n",
       "    'id': {'type': 'literal', 'value': 'O60502'},\n",
       "    'item': {'type': 'uri',\n",
       "     'value': 'http://www.wikidata.org/entity/Q22676717'},\n",
       "    'itemDesc': {'type': 'literal',\n",
       "     'value': 'mammalian protein found in Homo sapiens',\n",
       "     'xml:lang': 'en'},\n",
       "    'itemLabel': {'type': 'literal',\n",
       "     'value': 'Meningioma expressed antigen 5 (hyaluronidase)',\n",
       "     'xml:lang': 'en'}},\n",
       "   {'altLabel': {'type': 'literal',\n",
       "     'value': 'GNE|UDP-GlcNAc-2-epimerase/ManAc kinase|N-acylmannosamine kinase|bifunctional UDP-N-acetylglucosamine 2-epimerase/N-acetylmannosamine kinase|UDP-N-acetylglucosamine 2-epimerase/N-acetylmannosamine kinase'},\n",
       "    'id': {'type': 'literal', 'value': 'Q9Y223'},\n",
       "    'item': {'type': 'uri',\n",
       "     'value': 'http://www.wikidata.org/entity/Q21106661'},\n",
       "    'itemDesc': {'type': 'literal',\n",
       "     'value': 'mammalian protein found in Homo sapiens',\n",
       "     'xml:lang': 'en'},\n",
       "    'itemLabel': {'type': 'literal',\n",
       "     'value': 'Glucosamine (UDP-N-acetyl)-2-epimerase/N-acetylmannosamine kinase',\n",
       "     'xml:lang': 'en'}},\n",
       "   {'altLabel': {'type': 'literal',\n",
       "     'value': 'NAGPA|alpha-N-acetylglucosaminyl phosphodiesterase|lysosomal alpha-N-acetylglucosaminidase|mannose 6-phosphate-uncovering enzyme|phosphodiester alpha-GlcNAcase'},\n",
       "    'id': {'type': 'literal', 'value': 'Q9UK23'},\n",
       "    'item': {'type': 'uri',\n",
       "     'value': 'http://www.wikidata.org/entity/Q22678770'},\n",
       "    'itemDesc': {'type': 'literal',\n",
       "     'value': 'mammalian protein found in Homo sapiens',\n",
       "     'xml:lang': 'en'},\n",
       "    'itemLabel': {'type': 'literal',\n",
       "     'value': 'N-acetylglucosamine-1-phosphodiester alpha-N-acetylglucosaminidase',\n",
       "     'xml:lang': 'en'}},\n",
       "   {'altLabel': {'type': 'literal',\n",
       "     'value': 'B4GALT3|beta-1,4-galactosyltransferase 3|UDP-Gal:beta-GlcNAc beta-1,4-galactosyltransferase 3|UDP-galactose:beta-N-acetylglucosamine beta-1,4-galactosyltransferase 3|UDP-Gal:betaGlcNAc beta 1,4- galactosyltransferase, polypeptide 3|b4Gal-T3|beta-1,4-GalTase 3|beta-N-acetylglucosaminyl-glycolipid beta-1,4-galactosyltransferase 3'},\n",
       "    'id': {'type': 'literal', 'value': 'O60512'},\n",
       "    'item': {'type': 'uri',\n",
       "     'value': 'http://www.wikidata.org/entity/Q21108250'},\n",
       "    'itemDesc': {'type': 'literal',\n",
       "     'value': 'mammalian protein found in Homo sapiens',\n",
       "     'xml:lang': 'en'},\n",
       "    'itemLabel': {'type': 'literal',\n",
       "     'value': 'Beta-1,4-galactosyltransferase 3',\n",
       "     'xml:lang': 'en'}},\n",
       "   {'altLabel': {'type': 'literal',\n",
       "     'value': 'N-acetyl-D-glucosamine kinase|NAGK|glcNAc kinase'},\n",
       "    'id': {'type': 'literal', 'value': 'Q9UJ70'},\n",
       "    'item': {'type': 'uri',\n",
       "     'value': 'http://www.wikidata.org/entity/Q21105246'},\n",
       "    'itemDesc': {'type': 'literal',\n",
       "     'value': 'mammalian protein found in Homo sapiens',\n",
       "     'xml:lang': 'en'},\n",
       "    'itemLabel': {'type': 'literal',\n",
       "     'value': 'N-acetylglucosamine kinase',\n",
       "     'xml:lang': 'en'}},\n",
       "   {'altLabel': {'type': 'literal',\n",
       "     'value': 'NAG|NAGLU|N-acetyl-alpha-glucosaminidase|N-acetylglucosaminidase, alpha|alpha-N-acetylglucosaminidase|testicular tissue protein Li 18'},\n",
       "    'id': {'type': 'literal', 'value': 'P54802'},\n",
       "    'item': {'type': 'uri',\n",
       "     'value': 'http://www.wikidata.org/entity/Q22678008'},\n",
       "    'itemDesc': {'type': 'literal',\n",
       "     'value': 'mammalian protein found in Homo sapiens',\n",
       "     'xml:lang': 'en'},\n",
       "    'itemLabel': {'type': 'literal',\n",
       "     'value': 'N-acetyl-alpha-glucosaminidase',\n",
       "     'xml:lang': 'en'}},\n",
       "   {'altLabel': {'type': 'literal',\n",
       "     'value': 'CGP-39|GP-39|CHI3L1|39 kDa synovial protein|hCGP-39|YKL-40|chitinase 3-like 1 (cartilage glycoprotein-39)|cartilage glycoprotein 39|chitinase-3-like protein 1'},\n",
       "    'id': {'type': 'literal', 'value': 'P36222'},\n",
       "    'item': {'type': 'uri',\n",
       "     'value': 'http://www.wikidata.org/entity/Q21117210'},\n",
       "    'itemDesc': {'type': 'literal',\n",
       "     'value': 'mammalian protein found in Homo sapiens',\n",
       "     'xml:lang': 'en'},\n",
       "    'itemLabel': {'type': 'literal',\n",
       "     'value': 'Chitinase 3 like 1',\n",
       "     'xml:lang': 'en'}},\n",
       "   {'altLabel': {'type': 'literal',\n",
       "     'value': 'LYZL2|lysozyme-like protein 2|lysozyme D2|lysozyme-2'},\n",
       "    'id': {'type': 'literal', 'value': 'Q7Z4W2'},\n",
       "    'item': {'type': 'uri',\n",
       "     'value': 'http://www.wikidata.org/entity/Q21122348'},\n",
       "    'itemDesc': {'type': 'literal',\n",
       "     'value': 'mammalian protein found in Homo sapiens',\n",
       "     'xml:lang': 'en'},\n",
       "    'itemLabel': {'type': 'literal',\n",
       "     'value': 'Lysozyme like 2',\n",
       "     'xml:lang': 'en'}},\n",
       "   {'altLabel': {'type': 'literal',\n",
       "     'value': 'AGE|GlcNAc 2-epimerase|N-acetyl-D-glucosamine 2-epimerase|RENBP|Renin-binding protein|RnBP|N-acylglucosamine 2-epimerase'},\n",
       "    'id': {'type': 'literal', 'value': 'P51606'},\n",
       "    'item': {'type': 'uri',\n",
       "     'value': 'http://www.wikidata.org/entity/Q22677897'},\n",
       "    'itemDesc': {'type': 'literal',\n",
       "     'value': 'mammalian protein found in Homo sapiens',\n",
       "     'xml:lang': 'en'},\n",
       "    'itemLabel': {'type': 'literal',\n",
       "     'value': 'Renin binding protein',\n",
       "     'xml:lang': 'en'}},\n",
       "   {'altLabel': {'type': 'literal', 'value': 'LYZL6'},\n",
       "    'id': {'type': 'literal', 'value': 'O75951'},\n",
       "    'item': {'type': 'uri',\n",
       "     'value': 'http://www.wikidata.org/entity/Q21122344'},\n",
       "    'itemDesc': {'type': 'literal',\n",
       "     'value': 'mammalian protein found in Homo sapiens',\n",
       "     'xml:lang': 'en'},\n",
       "    'itemLabel': {'type': 'literal',\n",
       "     'value': 'Lysozyme like 6',\n",
       "     'xml:lang': 'en'}},\n",
       "   {'altLabel': {'type': 'literal',\n",
       "     'value': 'SLLP-X|SPACA5|SPACA5B|sperm acrosome-associated protein 5|sperm lysozyme-like protein 2|testicular tissue protein Li 113|lysozyme-like protein 5|sperm-specific lysozyme-like protein X'},\n",
       "    'id': {'type': 'literal', 'value': 'Q96QH8'},\n",
       "    'item': {'type': 'uri',\n",
       "     'value': 'http://www.wikidata.org/entity/Q21122354'},\n",
       "    'itemDesc': {'type': 'literal',\n",
       "     'value': 'mammalian protein found in Homo sapiens',\n",
       "     'xml:lang': 'en'},\n",
       "    'itemLabel': {'type': 'literal',\n",
       "     'value': 'Sperm acrosome associated 5B',\n",
       "     'xml:lang': 'en'}},\n",
       "   {'altLabel': {'type': 'literal',\n",
       "     'value': 'HCC-7|HEXB|Hexosaminidase subunit B|N-acetyl-beta-glucosaminidase subunit beta|hexosaminidase B (beta polypeptide)|beta-hexosaminidase beta-subunit|beta-hexosaminidase subunit beta|cervical cancer proto-oncogene 7 protein|epididymis luminal protein 248|epididymis secretory protein Li 111|beta-N-acetylhexosaminidase subunit beta'},\n",
       "    'id': {'type': 'literal', 'value': 'P07686'},\n",
       "    'item': {'type': 'uri',\n",
       "     'value': 'http://www.wikidata.org/entity/Q5629497'},\n",
       "    'itemDesc': {'type': 'literal',\n",
       "     'value': 'mammalian protein found in Homo sapiens',\n",
       "     'xml:lang': 'en'},\n",
       "    'itemLabel': {'type': 'literal',\n",
       "     'value': 'Hexosaminidase subunit beta',\n",
       "     'xml:lang': 'en'}}]}}"
      ]
     },
     "execution_count": 66,
     "metadata": {},
     "output_type": "execute_result"
    }
   ],
   "source": [
    "r = requests.post(api, data={'query': query}, headers={'Accept':'application/sparql-results+json'})\n",
    "r.json()"
   ]
  },
  {
   "cell_type": "code",
   "execution_count": 67,
   "metadata": {
    "scrolled": true
   },
   "outputs": [
    {
     "data": {
      "text/html": [
       "<div>\n",
       "<table border=\"1\" class=\"dataframe\">\n",
       "  <thead>\n",
       "    <tr style=\"text-align: right;\">\n",
       "      <th></th>\n",
       "      <th>protein_id</th>\n",
       "      <th>item</th>\n",
       "      <th>itemLabel</th>\n",
       "      <th>altLabel</th>\n",
       "      <th>itemDesc</th>\n",
       "    </tr>\n",
       "  </thead>\n",
       "  <tbody>\n",
       "    <tr>\n",
       "      <th>0</th>\n",
       "      <td>UniProt:Q9Y223</td>\n",
       "      <td>Q21106661</td>\n",
       "      <td>Glucosamine (UDP-N-acetyl)-2-epimerase/N-acety...</td>\n",
       "      <td>GNE|UDP-GlcNAc-2-epimerase/ManAc kinase|N-acyl...</td>\n",
       "      <td>mammalian protein found in Homo sapiens</td>\n",
       "    </tr>\n",
       "    <tr>\n",
       "      <th>1</th>\n",
       "      <td>UniProt:P51606</td>\n",
       "      <td>Q22677897</td>\n",
       "      <td>Renin binding protein</td>\n",
       "      <td>AGE|GlcNAc 2-epimerase|N-acetyl-D-glucosamine ...</td>\n",
       "      <td>mammalian protein found in Homo sapiens</td>\n",
       "    </tr>\n",
       "  </tbody>\n",
       "</table>\n",
       "</div>"
      ],
      "text/plain": [
       "       protein_id       item  \\\n",
       "0  UniProt:Q9Y223  Q21106661   \n",
       "1  UniProt:P51606  Q22677897   \n",
       "\n",
       "                                           itemLabel  \\\n",
       "0  Glucosamine (UDP-N-acetyl)-2-epimerase/N-acety...   \n",
       "1                              Renin binding protein   \n",
       "\n",
       "                                            altLabel  \\\n",
       "0  GNE|UDP-GlcNAc-2-epimerase/ManAc kinase|N-acyl...   \n",
       "1  AGE|GlcNAc 2-epimerase|N-acetyl-D-glucosamine ...   \n",
       "\n",
       "                                  itemDesc  \n",
       "0  mammalian protein found in Homo sapiens  \n",
       "1  mammalian protein found in Homo sapiens  "
      ]
     },
     "execution_count": 67,
     "metadata": {},
     "output_type": "execute_result"
    }
   ],
   "source": [
    "header_l = r.json()['head']['vars']\n",
    "results_l = r.json()['results']['bindings']\n",
    "df = generate_table(header_l, results_l)\n",
    "\n",
    "# merge input with response\n",
    "input_df = input_df[['protein_id']]\n",
    "input_df['id'] = input_df.protein_id.apply(lambda x: x.split(':')[1])\n",
    "output_df = input_df.merge(df)\n",
    "output_df = output_df[['protein_id', 'item', 'itemLabel', 'altLabel', 'itemDesc']]\n",
    "output_df.head(2)"
   ]
  },
  {
   "cell_type": "code",
   "execution_count": 68,
   "metadata": {},
   "outputs": [
    {
     "data": {
      "text/plain": [
       "23"
      ]
     },
     "execution_count": 68,
     "metadata": {},
     "output_type": "execute_result"
    }
   ],
   "source": [
    "len(output_df)"
   ]
  },
  {
   "cell_type": "code",
   "execution_count": 69,
   "metadata": {
    "collapsed": true
   },
   "outputs": [],
   "source": [
    "output_df.to_csv('{}_uniprot_enzymes_hmdb_concept_kb.tsv'.format(path), sep='\\t', index=False, header=True)"
   ]
  },
  {
   "cell_type": "code",
   "execution_count": 70,
   "metadata": {},
   "outputs": [
    {
     "data": {
      "text/plain": [
       "'\"P00811\" \"P27695\" \"O75874\" \"Q6P4F1\"'"
      ]
     },
     "execution_count": 70,
     "metadata": {},
     "output_type": "execute_result"
    }
   ],
   "source": [
    "# get Uniprot (targets (enzymes) from chembl):\n",
    "\n",
    "\n",
    "# get input_list\n",
    "input_df = pd.read_table('/home/nuria/workspace/ngly1_hg/glcnac_human_expansion/glcnac_human_uniprot_targets_chembl.csv')\n",
    "input_df['id'] = input_df.protein_id.apply(lambda x: '\"' + str(x.split(':')[1]) + '\"')\n",
    "input_l = list(input_df['id'])\n",
    "input_s = ' '.join(input_l)\n",
    "input_s"
   ]
  },
  {
   "cell_type": "code",
   "execution_count": 71,
   "metadata": {
    "collapsed": true
   },
   "outputs": [],
   "source": [
    "# query\n",
    "query = \"\"\"SELECT DISTINCT ?id ?item ?itemLabel (group_concat(distinct ?itemaltLabel; separator=\"|\") as ?altLabel) ?itemDesc\n",
    "WHERE\n",
    "{\n",
    "  {?item wdt:P352 ?id .} # uniprot id\n",
    "  values ?id {\"\"\" + input_s + \"\"\"}\n",
    "  OPTIONAL{\n",
    "  ?item skos:altLabel ?itemaltLabel .\n",
    "    FILTER(LANG(?itemaltLabel) = \"en\")\n",
    "  ?item schema:description ?itemDesc .\n",
    "    FILTER(LANG(?itemDesc) = \"en\")\n",
    "  }\n",
    "  SERVICE wikibase:label { bd:serviceParam wikibase:language \"en\" }\n",
    "}\n",
    "group by ?item ?id ?itemLabel ?itemDesc\"\"\""
   ]
  },
  {
   "cell_type": "code",
   "execution_count": 72,
   "metadata": {},
   "outputs": [
    {
     "data": {
      "text/plain": [
       "{'head': {'vars': ['id', 'item', 'itemLabel', 'altLabel', 'itemDesc']},\n",
       " 'results': {'bindings': [{'altLabel': {'type': 'literal',\n",
       "     'value': 'IDH1|IDP|Cytosolic NADP-isocitrate dehydrogenase|NADP(+)-specific ICDH|isocitrate dehydrogenase 1 (NADP+), soluble|isocitrate dehydrogenase [NADP] cytoplasmic|epididymis luminal protein 216|epididymis secretory protein Li 26|NADP-dependent isocitrate dehydrogenase, cytosolic|NADP-dependent isocitrate dehydrogenase, peroxisomal|oxalosuccinate decarboxylase'},\n",
       "    'id': {'type': 'literal', 'value': 'O75874'},\n",
       "    'item': {'type': 'uri',\n",
       "     'value': 'http://www.wikidata.org/entity/Q21116029'},\n",
       "    'itemDesc': {'type': 'literal',\n",
       "     'value': 'mammalian protein found in Homo sapiens',\n",
       "     'xml:lang': 'en'},\n",
       "    'itemLabel': {'type': 'literal',\n",
       "     'value': 'Isocitrate dehydrogenase (NADP(+)) 1, cytosolic',\n",
       "     'xml:lang': 'en'}},\n",
       "   {'altLabel': {'type': 'literal', 'value': 'ampC|b4150'},\n",
       "    'id': {'type': 'literal', 'value': 'P00811'},\n",
       "    'item': {'type': 'uri',\n",
       "     'value': 'http://www.wikidata.org/entity/Q24138857'},\n",
       "    'itemDesc': {'type': 'literal',\n",
       "     'value': 'microbial protein found in Escherichia coli str. K-12 substr. MG1655',\n",
       "     'xml:lang': 'en'},\n",
       "    'itemLabel': {'type': 'literal',\n",
       "     'value': 'Penicillin-binding protein; beta-lactamase, intrinsically weak b4150',\n",
       "     'xml:lang': 'en'}},\n",
       "   {'altLabel': {'type': 'literal',\n",
       "     'value': 'AP endonuclease 1|APEN|APEX nuclease|REF-1|DNA-(apurinic or apyrimidinic site) lyase|APE-1|APEX1|APEX nuclease (multifunctional DNA repair enzyme) 1|AP endonuclease class I|AP lyase|apurinic-apyrimidinic endonuclease 1|apurinic/apyrimidinic (abasic) endonuclease|deoxyribonuclease (apurinic or apyrimidinic)|protein REF-1|redox factor-1'},\n",
       "    'id': {'type': 'literal', 'value': 'P27695'},\n",
       "    'item': {'type': 'uri',\n",
       "     'value': 'http://www.wikidata.org/entity/Q22676734'},\n",
       "    'itemDesc': {'type': 'literal',\n",
       "     'value': 'mammalian protein found in Homo sapiens',\n",
       "     'xml:lang': 'en'},\n",
       "    'itemLabel': {'type': 'literal',\n",
       "     'value': 'Apurinic/apyrimidinic endodeoxyribonuclease 1',\n",
       "     'xml:lang': 'en'}},\n",
       "   {'altLabel': {'type': 'literal',\n",
       "     'value': 'FUT10|Fucosyltransferase 10|fuc-TX|alpha (1,3) fucosyltransferase|alpha 1,3-fucosyl transferase|alpha-(1,3)-fucosyltransferase 10|fucT-X|galactoside 3-L-fucosyltransferase 10|fucosyltransferase X'},\n",
       "    'id': {'type': 'literal', 'value': 'Q6P4F1'},\n",
       "    'item': {'type': 'uri',\n",
       "     'value': 'http://www.wikidata.org/entity/Q21110287'},\n",
       "    'itemDesc': {'type': 'literal',\n",
       "     'value': 'mammalian protein found in Homo sapiens',\n",
       "     'xml:lang': 'en'},\n",
       "    'itemLabel': {'type': 'literal',\n",
       "     'value': 'Fucosyltransferase 10',\n",
       "     'xml:lang': 'en'}}]}}"
      ]
     },
     "execution_count": 72,
     "metadata": {},
     "output_type": "execute_result"
    }
   ],
   "source": [
    "r = requests.post(api, data={'query': query}, headers={'Accept':'application/sparql-results+json'})\n",
    "r.json()"
   ]
  },
  {
   "cell_type": "code",
   "execution_count": 73,
   "metadata": {},
   "outputs": [
    {
     "data": {
      "text/html": [
       "<div>\n",
       "<table border=\"1\" class=\"dataframe\">\n",
       "  <thead>\n",
       "    <tr style=\"text-align: right;\">\n",
       "      <th></th>\n",
       "      <th>protein_id</th>\n",
       "      <th>item</th>\n",
       "      <th>itemLabel</th>\n",
       "      <th>altLabel</th>\n",
       "      <th>itemDesc</th>\n",
       "    </tr>\n",
       "  </thead>\n",
       "  <tbody>\n",
       "    <tr>\n",
       "      <th>0</th>\n",
       "      <td>UniProt:P00811</td>\n",
       "      <td>Q24138857</td>\n",
       "      <td>Penicillin-binding protein; beta-lactamase, in...</td>\n",
       "      <td>ampC|b4150</td>\n",
       "      <td>microbial protein found in Escherichia coli st...</td>\n",
       "    </tr>\n",
       "    <tr>\n",
       "      <th>1</th>\n",
       "      <td>UniProt:P27695</td>\n",
       "      <td>Q22676734</td>\n",
       "      <td>Apurinic/apyrimidinic endodeoxyribonuclease 1</td>\n",
       "      <td>AP endonuclease 1|APEN|APEX nuclease|REF-1|DNA...</td>\n",
       "      <td>mammalian protein found in Homo sapiens</td>\n",
       "    </tr>\n",
       "  </tbody>\n",
       "</table>\n",
       "</div>"
      ],
      "text/plain": [
       "       protein_id       item  \\\n",
       "0  UniProt:P00811  Q24138857   \n",
       "1  UniProt:P27695  Q22676734   \n",
       "\n",
       "                                           itemLabel  \\\n",
       "0  Penicillin-binding protein; beta-lactamase, in...   \n",
       "1      Apurinic/apyrimidinic endodeoxyribonuclease 1   \n",
       "\n",
       "                                            altLabel  \\\n",
       "0                                         ampC|b4150   \n",
       "1  AP endonuclease 1|APEN|APEX nuclease|REF-1|DNA...   \n",
       "\n",
       "                                            itemDesc  \n",
       "0  microbial protein found in Escherichia coli st...  \n",
       "1            mammalian protein found in Homo sapiens  "
      ]
     },
     "execution_count": 73,
     "metadata": {},
     "output_type": "execute_result"
    }
   ],
   "source": [
    "header_l = r.json()['head']['vars']\n",
    "results_l = r.json()['results']['bindings']\n",
    "df = generate_table(header_l, results_l)\n",
    "\n",
    "# merge input with response\n",
    "input_df = input_df[['protein_id']]\n",
    "input_df['id'] = input_df.protein_id.apply(lambda x: x.split(':')[1])\n",
    "output_df = input_df.merge(df)\n",
    "output_df = output_df[['protein_id', 'item', 'itemLabel', 'altLabel', 'itemDesc']]\n",
    "output_df.head(2)"
   ]
  },
  {
   "cell_type": "code",
   "execution_count": 74,
   "metadata": {},
   "outputs": [
    {
     "data": {
      "text/plain": [
       "4"
      ]
     },
     "execution_count": 74,
     "metadata": {},
     "output_type": "execute_result"
    }
   ],
   "source": [
    "len(output_df)"
   ]
  },
  {
   "cell_type": "code",
   "execution_count": 75,
   "metadata": {
    "collapsed": true
   },
   "outputs": [],
   "source": [
    "output_df.to_csv('{}_uniprot_targets_chembl_concept_kb.tsv'.format(path), sep='\\t', index=False, header=True)"
   ]
  },
  {
   "cell_type": "code",
   "execution_count": null,
   "metadata": {
    "collapsed": true
   },
   "outputs": [],
   "source": []
  }
 ],
 "metadata": {
  "kernelspec": {
   "display_name": "Python 3",
   "language": "python",
   "name": "python3"
  },
  "language_info": {
   "codemirror_mode": {
    "name": "ipython",
    "version": 3
   },
   "file_extension": ".py",
   "mimetype": "text/x-python",
   "name": "python",
   "nbconvert_exporter": "python",
   "pygments_lexer": "ipython3",
   "version": "3.6.1"
  }
 },
 "nbformat": 4,
 "nbformat_minor": 2
}
